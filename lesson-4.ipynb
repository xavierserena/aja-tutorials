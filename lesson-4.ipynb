{
 "cells": [
  {
   "cell_type": "markdown",
   "id": "0bfac71c",
   "metadata": {},
   "source": [
    "# Debugging 🪲"
   ]
  },
  {
   "cell_type": "markdown",
   "id": "f442896d",
   "metadata": {},
   "source": [
    "## Syntax ✍🏾"
   ]
  },
  {
   "cell_type": "code",
   "execution_count": 18,
   "id": "9e4501b5",
   "metadata": {},
   "outputs": [
    {
     "ename": "SyntaxError",
     "evalue": "invalid syntax (3670273126.py, line 1)",
     "output_type": "error",
     "traceback": [
      "\u001b[0;36m  File \u001b[0;32m\"/var/folders/9y/0w59z2r14h164zx8dmhctwh40000gn/T/ipykernel_23939/3670273126.py\"\u001b[0;36m, line \u001b[0;32m1\u001b[0m\n\u001b[0;31m    number 5\u001b[0m\n\u001b[0m           ^\u001b[0m\n\u001b[0;31mSyntaxError\u001b[0m\u001b[0;31m:\u001b[0m invalid syntax\n"
     ]
    }
   ],
   "source": [
    "number 5"
   ]
  },
  {
   "cell_type": "code",
   "execution_count": 19,
   "id": "fd60e363",
   "metadata": {},
   "outputs": [
    {
     "ename": "SyntaxError",
     "evalue": "cannot assign to literal (645162833.py, line 1)",
     "output_type": "error",
     "traceback": [
      "\u001b[0;36m  File \u001b[0;32m\"/var/folders/9y/0w59z2r14h164zx8dmhctwh40000gn/T/ipykernel_23939/645162833.py\"\u001b[0;36m, line \u001b[0;32m1\u001b[0m\n\u001b[0;31m    3.4 = decimal\u001b[0m\n\u001b[0m    ^\u001b[0m\n\u001b[0;31mSyntaxError\u001b[0m\u001b[0;31m:\u001b[0m cannot assign to literal\n"
     ]
    }
   ],
   "source": [
    "3.4 = decimal"
   ]
  },
  {
   "cell_type": "code",
   "execution_count": 20,
   "id": "7e52d82b",
   "metadata": {},
   "outputs": [
    {
     "ename": "SyntaxError",
     "evalue": "EOL while scanning string literal (1424997093.py, line 1)",
     "output_type": "error",
     "traceback": [
      "\u001b[0;36m  File \u001b[0;32m\"/var/folders/9y/0w59z2r14h164zx8dmhctwh40000gn/T/ipykernel_23939/1424997093.py\"\u001b[0;36m, line \u001b[0;32m1\u001b[0m\n\u001b[0;31m    fruit = 'apple\u001b[0m\n\u001b[0m                  ^\u001b[0m\n\u001b[0;31mSyntaxError\u001b[0m\u001b[0;31m:\u001b[0m EOL while scanning string literal\n"
     ]
    }
   ],
   "source": [
    "fruit = 'apple"
   ]
  },
  {
   "cell_type": "code",
   "execution_count": 21,
   "id": "9c384f65",
   "metadata": {},
   "outputs": [
    {
     "ename": "SyntaxError",
     "evalue": "invalid decimal literal (1668460969.py, line 1)",
     "output_type": "error",
     "traceback": [
      "\u001b[0;36m  File \u001b[0;32m\"/var/folders/9y/0w59z2r14h164zx8dmhctwh40000gn/T/ipykernel_23939/1668460969.py\"\u001b[0;36m, line \u001b[0;32m1\u001b[0m\n\u001b[0;31m    1_song = 'Yellow submarine'\u001b[0m\n\u001b[0m     ^\u001b[0m\n\u001b[0;31mSyntaxError\u001b[0m\u001b[0;31m:\u001b[0m invalid decimal literal\n"
     ]
    }
   ],
   "source": [
    "1_song = 'Yellow submarine'"
   ]
  },
  {
   "cell_type": "code",
   "execution_count": 23,
   "id": "2acef442",
   "metadata": {},
   "outputs": [
    {
     "ename": "SyntaxError",
     "evalue": "invalid character '🧑' (U+1F9D1) (2032921652.py, line 1)",
     "output_type": "error",
     "traceback": [
      "\u001b[0;36m  File \u001b[0;32m\"/var/folders/9y/0w59z2r14h164zx8dmhctwh40000gn/T/ipykernel_23939/2032921652.py\"\u001b[0;36m, line \u001b[0;32m1\u001b[0m\n\u001b[0;31m    print(🧑‍💻)\u001b[0m\n\u001b[0m          ^\u001b[0m\n\u001b[0;31mSyntaxError\u001b[0m\u001b[0;31m:\u001b[0m invalid character '🧑' (U+1F9D1)\n"
     ]
    }
   ],
   "source": [
    "print(🧑‍💻)"
   ]
  },
  {
   "cell_type": "code",
   "execution_count": 24,
   "id": "5f4471c8",
   "metadata": {},
   "outputs": [
    {
     "ename": "SyntaxError",
     "evalue": "invalid syntax (4186215381.py, line 1)",
     "output_type": "error",
     "traceback": [
      "\u001b[0;36m  File \u001b[0;32m\"/var/folders/9y/0w59z2r14h164zx8dmhctwh40000gn/T/ipykernel_23939/4186215381.py\"\u001b[0;36m, line \u001b[0;32m1\u001b[0m\n\u001b[0;31m    def add(a, b)\u001b[0m\n\u001b[0m                 ^\u001b[0m\n\u001b[0;31mSyntaxError\u001b[0m\u001b[0;31m:\u001b[0m invalid syntax\n"
     ]
    }
   ],
   "source": [
    "def add(a, b)\n",
    "    a + b\n",
    "add(10, 2)"
   ]
  },
  {
   "cell_type": "code",
   "execution_count": 25,
   "id": "c00f37c8",
   "metadata": {},
   "outputs": [
    {
     "ename": "TypeError",
     "evalue": "hello() takes 0 positional arguments but 1 was given",
     "output_type": "error",
     "traceback": [
      "\u001b[0;31m---------------------------------------------------------------------------\u001b[0m",
      "\u001b[0;31mTypeError\u001b[0m                                 Traceback (most recent call last)",
      "\u001b[0;32m/var/folders/9y/0w59z2r14h164zx8dmhctwh40000gn/T/ipykernel_23939/292031828.py\u001b[0m in \u001b[0;36m<module>\u001b[0;34m\u001b[0m\n\u001b[1;32m      1\u001b[0m \u001b[0;32mdef\u001b[0m \u001b[0mhello\u001b[0m\u001b[0;34m(\u001b[0m\u001b[0;34m)\u001b[0m\u001b[0;34m:\u001b[0m\u001b[0;34m\u001b[0m\u001b[0;34m\u001b[0m\u001b[0m\n\u001b[1;32m      2\u001b[0m     \u001b[0mprint\u001b[0m\u001b[0;34m(\u001b[0m\u001b[0;34m'Hello'\u001b[0m\u001b[0;34m,\u001b[0m \u001b[0mname\u001b[0m\u001b[0;34m)\u001b[0m\u001b[0;34m\u001b[0m\u001b[0;34m\u001b[0m\u001b[0m\n\u001b[0;32m----> 3\u001b[0;31m \u001b[0mhello\u001b[0m\u001b[0;34m(\u001b[0m\u001b[0;34m'Faiza'\u001b[0m\u001b[0;34m)\u001b[0m\u001b[0;34m\u001b[0m\u001b[0;34m\u001b[0m\u001b[0m\n\u001b[0m",
      "\u001b[0;31mTypeError\u001b[0m: hello() takes 0 positional arguments but 1 was given"
     ]
    }
   ],
   "source": [
    "def hello():\n",
    "    print('Hello', name)\n",
    "hello('Faiza')"
   ]
  },
  {
   "cell_type": "code",
   "execution_count": 26,
   "id": "6dcbea00",
   "metadata": {},
   "outputs": [
    {
     "ename": "SyntaxError",
     "evalue": "invalid syntax (1145033770.py, line 1)",
     "output_type": "error",
     "traceback": [
      "\u001b[0;36m  File \u001b[0;32m\"/var/folders/9y/0w59z2r14h164zx8dmhctwh40000gn/T/ipykernel_23939/1145033770.py\"\u001b[0;36m, line \u001b[0;32m1\u001b[0m\n\u001b[0;31m    multiply(a, b):\u001b[0m\n\u001b[0m                   ^\u001b[0m\n\u001b[0;31mSyntaxError\u001b[0m\u001b[0;31m:\u001b[0m invalid syntax\n"
     ]
    }
   ],
   "source": [
    "multiply(a, b):\n",
    "    return a * b\n",
    "multiply 25 15"
   ]
  },
  {
   "cell_type": "code",
   "execution_count": 27,
   "id": "d128f4b5",
   "metadata": {},
   "outputs": [
    {
     "ename": "SyntaxError",
     "evalue": "invalid syntax (452139726.py, line 2)",
     "output_type": "error",
     "traceback": [
      "\u001b[0;36m  File \u001b[0;32m\"/var/folders/9y/0w59z2r14h164zx8dmhctwh40000gn/T/ipykernel_23939/452139726.py\"\u001b[0;36m, line \u001b[0;32m2\u001b[0m\n\u001b[0;31m    if number > 0\u001b[0m\n\u001b[0m                 ^\u001b[0m\n\u001b[0;31mSyntaxError\u001b[0m\u001b[0;31m:\u001b[0m invalid syntax\n"
     ]
    }
   ],
   "source": [
    "number = 10\n",
    "if number > 0\n",
    "    print(number 'is positive')\n",
    "elif number < 0\n",
    "    print(number 'is negative')\n",
    "print(number 'is neutral')"
   ]
  },
  {
   "cell_type": "code",
   "execution_count": null,
   "id": "7b1a1392",
   "metadata": {},
   "outputs": [],
   "source": [
    "temperature = 10\n",
    "if temperature < 50:\n",
    "    print('')"
   ]
  },
  {
   "cell_type": "markdown",
   "id": "20ce3ea6",
   "metadata": {},
   "source": [
    "## Logic 🧠"
   ]
  },
  {
   "cell_type": "code",
   "execution_count": 8,
   "id": "d74bf1d4",
   "metadata": {},
   "outputs": [
    {
     "name": "stdout",
     "output_type": "stream",
     "text": [
      "Xavier Hola\n"
     ]
    }
   ],
   "source": [
    "name = 'Xavier'\n",
    "greeting = 'Hola'\n",
    "print(name, greeting)"
   ]
  },
  {
   "cell_type": "code",
   "execution_count": 16,
   "id": "b6d00442",
   "metadata": {},
   "outputs": [
    {
     "data": {
      "text/plain": [
       "-8"
      ]
     },
     "execution_count": 16,
     "metadata": {},
     "output_type": "execute_result"
    }
   ],
   "source": [
    "def sub(a, b):\n",
    "    return b - a\n",
    "sub(10, 2) # should be 8"
   ]
  },
  {
   "cell_type": "code",
   "execution_count": 29,
   "id": "ee0b46b9",
   "metadata": {},
   "outputs": [
    {
     "name": "stdout",
     "output_type": "stream",
     "text": [
      "🌤😊\n"
     ]
    }
   ],
   "source": [
    "def temperature_reaction(temp):\n",
    "    if temp < 20:\n",
    "        print('☃️🥶')\n",
    "    if temp < 50:\n",
    "        print('🌧🤧')\n",
    "    if temp < 90:\n",
    "        print('🌤😊')\n",
    "    else:\n",
    "        print('👩🏾‍🚒🥵')\n",
    "temperature_reaction(80) # try 10 degrees"
   ]
  },
  {
   "cell_type": "code",
   "execution_count": 13,
   "id": "63cf6add",
   "metadata": {},
   "outputs": [
    {
     "data": {
      "text/plain": [
       "6.888888888888893"
      ]
     },
     "execution_count": 13,
     "metadata": {},
     "output_type": "execute_result"
    }
   ],
   "source": [
    "def fahrenheit_to_celsius(f):\n",
    "    # Converts farenheit to celsius\n",
    "    # ex. (70°F − 32) × 5/9 = 21.111°C\n",
    "    return f * (5/9) - 32\n",
    "fahrenheit_to_celsius(70)"
   ]
  }
 ],
 "metadata": {
  "kernelspec": {
   "display_name": "Python 3 (ipykernel)",
   "language": "python",
   "name": "python3"
  },
  "language_info": {
   "codemirror_mode": {
    "name": "ipython",
    "version": 3
   },
   "file_extension": ".py",
   "mimetype": "text/x-python",
   "name": "python",
   "nbconvert_exporter": "python",
   "pygments_lexer": "ipython3",
   "version": "3.9.7"
  }
 },
 "nbformat": 4,
 "nbformat_minor": 5
}
