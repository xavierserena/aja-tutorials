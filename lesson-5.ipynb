{
 "cells": [
  {
   "cell_type": "markdown",
   "id": "0bfac71c",
   "metadata": {},
   "source": [
    "# Debugging"
   ]
  },
  {
   "cell_type": "markdown",
   "id": "f442896d",
   "metadata": {},
   "source": [
    "### Syntax"
   ]
  },
  {
   "cell_type": "code",
   "execution_count": 11,
   "id": "9e4501b5",
   "metadata": {},
   "outputs": [],
   "source": [
    "number = 5\n",
    "decimal = 3.4\n",
    "fruit = 'apple'\n",
    "bands = ['Peter Cat Recording Co.', '21 Pilots', 'The Beatles', \"Guns N' Roses\"]\n",
    "song = 'Yellow submarine'"
   ]
  },
  {
   "cell_type": "code",
   "execution_count": 24,
   "id": "6dcbea00",
   "metadata": {},
   "outputs": [
    {
     "data": {
      "text/plain": [
       "375"
      ]
     },
     "execution_count": 24,
     "metadata": {},
     "output_type": "execute_result"
    }
   ],
   "source": [
    "def multiply(a, b):\n",
    "    result = a * b\n",
    "    return result\n",
    "multiply(25, 15)"
   ]
  },
  {
   "cell_type": "markdown",
   "id": "20ce3ea6",
   "metadata": {},
   "source": [
    "### Logic"
   ]
  },
  {
   "cell_type": "code",
   "execution_count": 26,
   "id": "d74bf1d4",
   "metadata": {},
   "outputs": [
    {
     "name": "stdout",
     "output_type": "stream",
     "text": [
      "Hola Xavier\n"
     ]
    }
   ],
   "source": [
    "name = 'Xavier'\n",
    "greeting = 'Hola'\n",
    "print(greeting, name)"
   ]
  },
  {
   "cell_type": "code",
   "execution_count": 28,
   "id": "b6d00442",
   "metadata": {},
   "outputs": [
    {
     "data": {
      "text/plain": [
       "5.0"
      ]
     },
     "execution_count": 28,
     "metadata": {},
     "output_type": "execute_result"
    }
   ],
   "source": [
    "def divide(a, b):\n",
    "    return a / b\n",
    "divide(10, 2)"
   ]
  },
  {
   "cell_type": "code",
   "execution_count": 32,
   "id": "63cf6add",
   "metadata": {},
   "outputs": [
    {
     "data": {
      "text/plain": [
       "21.11111111111111"
      ]
     },
     "execution_count": 32,
     "metadata": {},
     "output_type": "execute_result"
    }
   ],
   "source": [
    "def fahrenheit_to_celsius(f):\n",
    "    # ex. (70°F − 32) × 5/9 = 21.111°C\n",
    "    return (f - 32) * (5/9)\n",
    "fahrenheit_to_celsius(70)"
   ]
  },
  {
   "cell_type": "code",
   "execution_count": 62,
   "id": "42237ab3",
   "metadata": {},
   "outputs": [
    {
     "name": "stdout",
     "output_type": "stream",
     "text": [
      "1\n",
      "2\n",
      "3\n",
      "4\n",
      "5\n"
     ]
    }
   ],
   "source": [
    "def print_i_to_j(i, j):\n",
    "    # print_i_to_j(5, 7)\n",
    "    # 5\n",
    "    # 6\n",
    "    # 7\n",
    "    for n in range(i, j + 1):\n",
    "        print(n)\n",
    "print_i_to_j(1, 5)"
   ]
  },
  {
   "cell_type": "code",
   "execution_count": 64,
   "id": "8f04f9c3",
   "metadata": {},
   "outputs": [
    {
     "name": "stdout",
     "output_type": "stream",
     "text": [
      "1\n",
      "2\n",
      "3\n",
      "4\n",
      "5\n",
      "6\n",
      "7\n",
      "8\n",
      "9\n",
      "10\n"
     ]
    }
   ],
   "source": [
    "def print_1_to_n(n):\n",
    "    # print_1_to_n(3)\n",
    "    # 1\n",
    "    # 2\n",
    "    # 3\n",
    "    print_i_to_j(1, n)\n",
    "print_1_to_n(10)"
   ]
  },
  {
   "cell_type": "code",
   "execution_count": null,
   "id": "cce7aa34",
   "metadata": {},
   "outputs": [],
   "source": []
  },
  {
   "cell_type": "code",
   "execution_count": 68,
   "id": "5ad64ef4",
   "metadata": {},
   "outputs": [
    {
     "data": {
      "text/plain": [
       "['apples', 'eggs']"
      ]
     },
     "execution_count": 68,
     "metadata": {},
     "output_type": "execute_result"
    }
   ],
   "source": [
    "lst = ['apples', 'eggs', 'bread', 'cinammon']\n",
    "stock = ['apples', 'eggs', 'butter']\n",
    "cart = [] # how do we shop knowing what we want to buy and being able to check if it's in stock?\n",
    "for item in lst:\n",
    "    if item in stock:\n",
    "        cart.append(item)\n",
    "cart"
   ]
  },
  {
   "cell_type": "markdown",
   "id": "c6d76467",
   "metadata": {},
   "source": [
    "### Data and Resources"
   ]
  },
  {
   "cell_type": "code",
   "execution_count": 77,
   "id": "c33a47fc",
   "metadata": {},
   "outputs": [
    {
     "data": {
      "text/plain": [
       "15"
      ]
     },
     "execution_count": 77,
     "metadata": {},
     "output_type": "execute_result"
    }
   ],
   "source": [
    "def add(a, b):\n",
    "    return a + b\n",
    "add(2, 13)"
   ]
  },
  {
   "cell_type": "code",
   "execution_count": 86,
   "id": "3f7bcbe2",
   "metadata": {},
   "outputs": [
    {
     "data": {
      "text/plain": [
       "'Fardosa'"
      ]
     },
     "execution_count": 86,
     "metadata": {},
     "output_type": "execute_result"
    }
   ],
   "source": [
    "artists = ['Jeff', 'Lorain', 'Fardosa']\n",
    "artists[2]"
   ]
  },
  {
   "cell_type": "code",
   "execution_count": 90,
   "id": "6b8d0479",
   "metadata": {},
   "outputs": [
    {
     "data": {
      "text/plain": [
       "'Paris'"
      ]
     },
     "execution_count": 90,
     "metadata": {},
     "output_type": "execute_result"
    }
   ],
   "source": [
    "capitals = {'Mexico':'Mexico City', 'United States':'Washington DC', 'France':'Paris', 'Australia':'Canberra'}\n",
    "capitals['France']"
   ]
  },
  {
   "cell_type": "code",
   "execution_count": 104,
   "id": "af65608a",
   "metadata": {},
   "outputs": [
    {
     "data": {
      "text/plain": [
       "5050"
      ]
     },
     "execution_count": 104,
     "metadata": {},
     "output_type": "execute_result"
    }
   ],
   "source": [
    "def sum_n_numbers(n):\n",
    "    total = 0\n",
    "    for i in range(1, n + 1):\n",
    "        total += i\n",
    "    return total\n",
    "sum_n_numbers(100) # 1 + 2 + 3 + 4 + 5 = 15"
   ]
  }
 ],
 "metadata": {
  "kernelspec": {
   "display_name": "Python 3 (ipykernel)",
   "language": "python",
   "name": "python3"
  },
  "language_info": {
   "codemirror_mode": {
    "name": "ipython",
    "version": 3
   },
   "file_extension": ".py",
   "mimetype": "text/x-python",
   "name": "python",
   "nbconvert_exporter": "python",
   "pygments_lexer": "ipython3",
   "version": "3.9.7"
  }
 },
 "nbformat": 4,
 "nbformat_minor": 5
}
