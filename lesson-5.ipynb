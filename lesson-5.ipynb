{
 "cells": [
  {
   "cell_type": "markdown",
   "id": "b4da6888",
   "metadata": {},
   "source": [
    "# Debugging"
   ]
  },
  {
   "cell_type": "markdown",
   "id": "fd186df1",
   "metadata": {},
   "source": [
    "### Syntax"
   ]
  },
  {
   "cell_type": "code",
   "execution_count": null,
   "id": "22aabe4f",
   "metadata": {},
   "outputs": [],
   "source": [
    "number 5\n",
    "3.4 = decimal\n",
    "fruit = 'apple\n",
    "bands = ['Peter Cat Recording Co.' 21 Pilots 'TheBeatles' 'Guns N' Roses']\n",
    "1_song = 'Yellow submarine'"
   ]
  },
  {
   "cell_type": "code",
   "execution_count": null,
   "id": "61d84cf3",
   "metadata": {},
   "outputs": [],
   "source": [
    "def multiply(a, b)\n",
    "a * b\n",
    "multiply 25 15"
   ]
  },
  {
   "cell_type": "markdown",
   "id": "a1ea1508",
   "metadata": {},
   "source": [
    "### Logic"
   ]
  },
  {
   "cell_type": "code",
   "execution_count": null,
   "id": "9f2b68cf",
   "metadata": {},
   "outputs": [],
   "source": [
    "name = 'Xavier'\n",
    "greeting = 'Hola'\n",
    "print(name, greeting)"
   ]
  },
  {
   "cell_type": "code",
   "execution_count": null,
   "id": "cd9e1d1a",
   "metadata": {},
   "outputs": [],
   "source": [
    "def divide(a, b):\n",
    "    return a * b"
   ]
  },
  {
   "cell_type": "code",
   "execution_count": null,
   "id": "c55f35d3",
   "metadata": {},
   "outputs": [],
   "source": [
    "def fahrenheit_to_celsius:\n",
    "    # ex. (70°F − 32) × 5/9 = 21.111°C\n",
    "    return f * (5/9) - 32\n",
    "fahrenheit_to_celsius(70)"
   ]
  },
  {
   "cell_type": "code",
   "execution_count": null,
   "id": "c44c7c5b",
   "metadata": {},
   "outputs": [],
   "source": [
    "print_one_to_n(3)\n",
    "def print_1_to_n(n):\n",
    "    # print_1_to_n(3)\n",
    "    # 1\n",
    "    # 2\n",
    "    # 3\n",
    "    for n in range(n):\n",
    "        print(n)"
   ]
  },
  {
   "cell_type": "code",
   "execution_count": null,
   "id": "eb7c141c",
   "metadata": {},
   "outputs": [],
   "source": [
    "def print_i_to_j(i, j):\n",
    "    # print_i_to_j(5, 7)\n",
    "    # 5\n",
    "    # 6\n",
    "    # 7\n",
    "    for n in range(j):\n",
    "        print n\n",
    "print_i_to_j(3)"
   ]
  },
  {
   "cell_type": "code",
   "execution_count": null,
   "id": "f16968e8",
   "metadata": {},
   "outputs": [],
   "source": [
    "lst = ['apples', 'eggs', 'bread', 'cinammon', 'butter']\n",
    "stock = ['apples', 'eggs', 'butter']\n",
    "cart = [] # how do we shop knowing what we want to buy and being able to check if it's in stock?\n",
    "for item in lst:\n",
    "    print(item)\n",
    "    lst.append(item)"
   ]
  },
  {
   "cell_type": "markdown",
   "id": "80326236",
   "metadata": {},
   "source": [
    "### Data and Resources"
   ]
  },
  {
   "cell_type": "code",
   "execution_count": null,
   "id": "22e9881c",
   "metadata": {},
   "outputs": [],
   "source": [
    "def add(a, b):\n",
    "    return a + b\n",
    "add('2', '3')"
   ]
  },
  {
   "cell_type": "code",
   "execution_count": null,
   "id": "f0b053e3",
   "metadata": {},
   "outputs": [],
   "source": [
    "artists = []\n",
    "artists[0]"
   ]
  },
  {
   "cell_type": "code",
   "execution_count": null,
   "id": "a7b5db5c",
   "metadata": {},
   "outputs": [],
   "source": [
    "artists = ['Jeff', 'Lorain', 'Fardosa']\n",
    "artists[3]"
   ]
  },
  {
   "cell_type": "code",
   "execution_count": null,
   "id": "1240d4b3",
   "metadata": {},
   "outputs": [],
   "source": [
    "capitals = {'Mexico':'Mexico City', 'United States':'Washington DC', 'Paris':'France'}\n",
    "capitals['Australia']\n",
    "capitals['France']"
   ]
  },
  {
   "cell_type": "code",
   "execution_count": null,
   "id": "102ef677",
   "metadata": {},
   "outputs": [],
   "source": [
    "def sum_n_numbers(n):\n",
    "    for i in range(n):\n",
    "        total += i\n",
    "    return total\n",
    "sum_n_numbers(100)"
   ]
  }
 ],
 "metadata": {
  "kernelspec": {
   "display_name": "Python 3 (ipykernel)",
   "language": "python",
   "name": "python3"
  },
  "language_info": {
   "codemirror_mode": {
    "name": "ipython",
    "version": 3
   },
   "file_extension": ".py",
   "mimetype": "text/x-python",
   "name": "python",
   "nbconvert_exporter": "python",
   "pygments_lexer": "ipython3",
   "version": "3.9.7"
  }
 },
 "nbformat": 4,
 "nbformat_minor": 5
}
