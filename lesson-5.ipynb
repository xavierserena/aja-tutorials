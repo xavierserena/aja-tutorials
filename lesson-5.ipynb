{
 "cells": [
  {
   "cell_type": "code",
   "execution_count": null,
   "id": "2c6df671",
   "metadata": {},
   "outputs": [],
   "source": []
  },
  {
   "cell_type": "code",
   "execution_count": 2,
   "id": "cc300ada",
   "metadata": {},
   "outputs": [
    {
     "data": {
      "text/plain": [
       "[('apples', 3), ('eggs', 12), ('bread', 1), ('cinammon', 1), ('butter', 0)]"
      ]
     },
     "execution_count": 2,
     "metadata": {},
     "output_type": "execute_result"
    }
   ],
   "source": [
    "lst = [('apples', 3), ('eggs', 12), ('bread', 2), ('cinammon', 1), ('butter', 1)]\n",
    "stock = [('apples', 9), ('eggs', 36), ('bread', 1), ('cinammon', 1), ('butter', 0)]\n",
    "cart = [] # how do we shop knowing what we want to buy and being able to check if it's in stock?\n"
   ]
  },
  {
   "cell_type": "code",
   "execution_count": 3,
   "id": "068dcdd8",
   "metadata": {},
   "outputs": [
    {
     "name": "stdout",
     "output_type": "stream",
     "text": [
      "('apples', 3)\n",
      "('eggs', 12)\n",
      "('bread', 2)\n",
      "('cinammon', 1)\n",
      "('butter', 1)\n"
     ]
    }
   ],
   "source": [
    "for item in lst:\n",
    "    print(item)"
   ]
  },
  {
   "cell_type": "code",
   "execution_count": 5,
   "id": "fd541342",
   "metadata": {},
   "outputs": [
    {
     "name": "stdout",
     "output_type": "stream",
     "text": [
      "3 apples\n",
      "12 eggs\n",
      "2 bread\n",
      "1 cinammon\n",
      "1 butter\n"
     ]
    }
   ],
   "source": [
    "for item in lst:\n",
    "    print(item[1], item[0])"
   ]
  },
  {
   "cell_type": "code",
   "execution_count": 6,
   "id": "99d3d468",
   "metadata": {},
   "outputs": [
    {
     "name": "stdout",
     "output_type": "stream",
     "text": [
      "3 apples\n",
      "12 eggs\n",
      "2 bread\n",
      "1 cinammon\n",
      "1 butter\n"
     ]
    }
   ],
   "source": [
    "for item, qty in lst:\n",
    "    print(qty, item)"
   ]
  },
  {
   "cell_type": "code",
   "execution_count": 8,
   "id": "9e43c9d9",
   "metadata": {},
   "outputs": [],
   "source": [
    "# another way to write this problem, using a different data structure: dictionaries\n",
    "lst = {'apples':3, 'eggs':12, 'bread':2, 'cinammon':1, 'butter':1}\n",
    "stock = {'apples':9, 'eggs':36, 'bread':1, 'cinammon':1, 'butter':0}\n",
    "cart = {}"
   ]
  },
  {
   "cell_type": "code",
   "execution_count": 12,
   "id": "6ab4b930",
   "metadata": {},
   "outputs": [
    {
     "data": {
      "text/plain": [
       "36"
      ]
     },
     "execution_count": 12,
     "metadata": {},
     "output_type": "execute_result"
    }
   ],
   "source": [
    "# How many eggs are in stock?\n",
    "stock['eggs']"
   ]
  },
  {
   "cell_type": "code",
   "execution_count": 13,
   "id": "3f1616a0",
   "metadata": {},
   "outputs": [
    {
     "data": {
      "text/plain": [
       "12"
      ]
     },
     "execution_count": 13,
     "metadata": {},
     "output_type": "execute_result"
    }
   ],
   "source": [
    "# How many do we want?\n",
    "lst['eggs']"
   ]
  },
  {
   "cell_type": "code",
   "execution_count": 10,
   "id": "9d2b1fd0",
   "metadata": {},
   "outputs": [
    {
     "name": "stdout",
     "output_type": "stream",
     "text": [
      "3 apples\n",
      "12 eggs\n",
      "2 bread\n",
      "1 cinammon\n",
      "1 butter\n"
     ]
    }
   ],
   "source": [
    "for item in lst:\n",
    "    print(lst[item], item)"
   ]
  },
  {
   "cell_type": "code",
   "execution_count": 11,
   "id": "c82dcdf5",
   "metadata": {},
   "outputs": [
    {
     "name": "stdout",
     "output_type": "stream",
     "text": [
      "3 apples\n",
      "12 eggs\n",
      "2 bread\n",
      "1 cinammon\n",
      "1 butter\n"
     ]
    }
   ],
   "source": [
    "for item, qty in lst.items():\n",
    "    print(qty, item)"
   ]
  }
 ],
 "metadata": {
  "kernelspec": {
   "display_name": "Python 3 (ipykernel)",
   "language": "python",
   "name": "python3"
  },
  "language_info": {
   "codemirror_mode": {
    "name": "ipython",
    "version": 3
   },
   "file_extension": ".py",
   "mimetype": "text/x-python",
   "name": "python",
   "nbconvert_exporter": "python",
   "pygments_lexer": "ipython3",
   "version": "3.9.7"
  }
 },
 "nbformat": 4,
 "nbformat_minor": 5
}
