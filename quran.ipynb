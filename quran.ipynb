{
 "cells": [
  {
   "cell_type": "code",
   "execution_count": 24,
   "id": "0d9f896b",
   "metadata": {},
   "outputs": [],
   "source": [
    "import string\n",
    "\n",
    "# source: https://www.geeksforgeeks.org/python-count-occurrences-of-each-word-in-given-text-file-using-dictionary/\n",
    "# Open the file in read mode\n",
    "text = open(\"English-Quran-plain-text.txt\", 'r')\n",
    "  \n",
    "# Create an empty dictionary\n",
    "d = dict()\n",
    "  \n",
    "# Loop through each line of the file\n",
    "for line in text:\n",
    "    # Remove the leading spaces and newline character\n",
    "    line = line.strip()\n",
    "  \n",
    "    # Convert the characters in line to \n",
    "    # lowercase to avoid case mismatch\n",
    "    line = line.lower()\n",
    "  \n",
    "    # Remove the punctuation marks from the line\n",
    "    line = line.translate(line.maketrans(\"\", \"\", string.punctuation))\n",
    "  \n",
    "    # Split the line into words\n",
    "    words = line.split(\" \")\n",
    "  \n",
    "    # Iterate over each word in line\n",
    "    for word in words:\n",
    "        # Check if the word is already in dictionary\n",
    "        if word in d:\n",
    "            # Increment count of word by 1\n",
    "            d[word] = d[word] + 1\n",
    "        else:\n",
    "            # Add the word to dictionary with count 1\n",
    "            d[word] = 1\n",
    "  \n",
    "d.pop('')\n",
    "d = dict(sorted(d.items(), reverse=True, key=lambda item: item[1]))"
   ]
  },
  {
   "cell_type": "code",
   "execution_count": 16,
   "id": "4a1c7578",
   "metadata": {},
   "outputs": [
    {
     "name": "stdout",
     "output_type": "stream",
     "text": [
      "and : 7872\n",
      "the : 7837\n",
      "of : 4872\n",
      "is : 3189\n",
      "they : 2879\n",
      "allah : 2741\n",
      "that : 2557\n",
      "them : 2318\n",
      "a : 2284\n",
      "he : 2262\n",
      "in : 2173\n",
      "to : 2085\n",
      "who : 2032\n",
      "for : 1985\n",
      "we : 1870\n",
      "unto : 1868\n",
      "ye : 1860\n",
      "not : 1788\n",
      "will : 1680\n",
      "it : 1549\n",
      "you : 1522\n",
      "lo : 1364\n",
      "are : 1355\n",
      "him : 1324\n",
      "their : 1252\n",
      "be : 1217\n",
      "those : 1200\n",
      "have : 1121\n",
      "from : 1074\n",
      "his : 998\n",
      "lord : 988\n",
      "but : 987\n",
      "when : 970\n",
      "which : 957\n",
      "with : 955\n",
      "then : 831\n",
      "hath : 780\n",
      "your : 776\n",
      "said : 762\n",
      "thou : 760\n",
      "if : 724\n",
      "say : 706\n",
      "i : 667\n",
      "as : 654\n",
      "thee : 635\n",
      "on : 589\n",
      "o : 570\n",
      "so : 531\n",
      "day : 521\n",
      "all : 512\n"
     ]
    }
   ],
   "source": [
    "# Print the contents of dictionary\n",
    "for key in list(d.keys())[:50]:\n",
    "    print(key, ':', d[key])"
   ]
  },
  {
   "cell_type": "code",
   "execution_count": 4,
   "id": "129181bd",
   "metadata": {},
   "outputs": [
    {
     "name": "stdout",
     "output_type": "stream",
     "text": [
      "water : 76\n"
     ]
    }
   ],
   "source": [
    "word = 'water'\n",
    "print(word, ':', d[word])"
   ]
  }
 ],
 "metadata": {
  "kernelspec": {
   "display_name": "Python 3 (ipykernel)",
   "language": "python",
   "name": "python3"
  },
  "language_info": {
   "codemirror_mode": {
    "name": "ipython",
    "version": 3
   },
   "file_extension": ".py",
   "mimetype": "text/x-python",
   "name": "python",
   "nbconvert_exporter": "python",
   "pygments_lexer": "ipython3",
   "version": "3.9.7"
  }
 },
 "nbformat": 4,
 "nbformat_minor": 5
}
