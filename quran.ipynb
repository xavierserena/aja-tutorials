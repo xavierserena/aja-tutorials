{
 "cells": [
  {
   "cell_type": "code",
   "execution_count": null,
   "id": "5c873e87",
   "metadata": {},
   "outputs": [],
   "source": [
    "ignore_words = {\n",
    "'and': True,\n",
    "'the': True,\n",
    "'of': True,\n",
    "'is': True,\n",
    "'they': True,\n",
    "'that': True,\n",
    "'them': True,\n",
    "'a': True,\n",
    "'he': True,\n",
    "'in': True,\n",
    "'to': True,\n",
    "'who': True,\n",
    "'for': True,\n",
    "'unto': True,\n",
    "'ye': True,\n",
    "'not': True,\n",
    "'will': True,\n",
    "'it': True,\n",
    "'you': True,\n",
    "'lo': True,\n",
    "'are': True,\n",
    "'him': True,\n",
    "'their': True,\n",
    "'be': True,\n",
    "'those': True,\n",
    "'have': True,\n",
    "'from': True,\n",
    "'his': True,\n",
    "'but': True,\n",
    "'when': True,\n",
    "'which': True,\n",
    "'with': True,\n",
    "'then': True,\n",
    "'hath': True,\n",
    "'your': True,\n",
    "'thou': True,\n",
    "'if': True,\n",
    "'i': True,\n",
    "'as': True,\n",
    "'thee': True,\n",
    "'on': True,\n",
    "'o': True,\n",
    "'so': True\n",
    "}"
   ]
  },
  {
   "cell_type": "code",
   "execution_count": null,
   "id": "0d9f896b",
   "metadata": {},
   "outputs": [],
   "source": [
    "import string\n",
    "\n",
    "# source: : https://www.geeksforgeeks.org/python-count-occurrences-of-each-word-in-given-text-file-using-dictionary/\n",
    "# Open the file in read mode\n",
    "text = open(\"English-Quran-plain-text.txt\", 'r')\n",
    "  \n",
    "# Create an empty dictionary\n",
    "word_dict = dict()\n",
    "  \n",
    "# Loop through each line of the file\n",
    "for line in text:\n",
    "    # Remove the leading spaces and newline character\n",
    "    line = line.strip()\n",
    "  \n",
    "    # Convert the characters in line to \n",
    "    # lowercase to avoid case mismatch\n",
    "    line = line.lower()\n",
    "  \n",
    "    # Remove the punctuation marks from the line\n",
    "    line = line.translate(line.maketrans(\"\", \"\", string.punctuation))\n",
    "  \n",
    "    # Split the line into words\n",
    "    words = line.split(\" \")\n",
    "  \n",
    "    # Iterate over each word in line\n",
    "    for word in words:\n",
    "        # Check if the word is already in dictionary\n",
    "        if word in word_dict:\n",
    "            # Increment count of word by 1\n",
    "            word_dict[word] = word_dict[word] + 1\n",
    "        elif word not in ignore_words:\n",
    "            # Add the word to dictionary with count 1\n",
    "            word_dict[word] = 1\n",
    "  \n",
    "word_dict.pop('')\n",
    "word_dict = dict(sorted(word_dict.items(), reverse=True, key=lambda item: item[1]))"
   ]
  },
  {
   "cell_type": "code",
   "execution_count": null,
   "id": "4a1c7578",
   "metadata": {},
   "outputs": [],
   "source": [
    "# Print the contents of dictionary\n",
    "for key in list(word_dict.keys())[:50]:\n",
    "    print(key, ':', word_dict[key])"
   ]
  },
  {
   "cell_type": "code",
   "execution_count": null,
   "id": "129181bd",
   "metadata": {},
   "outputs": [],
   "source": [
    "word = 'love'\n",
    "print(word, ':', word_dict[word])"
   ]
  },
  {
   "cell_type": "code",
   "execution_count": null,
   "id": "79f2548f",
   "metadata": {},
   "outputs": [],
   "source": [
    "# Export to json\n",
    "import json\n",
    "out_file = open('quran_count.json', 'w')\n",
    "json.dump(word_dict, out_file)\n",
    "out_file.close()"
   ]
  },
  {
   "cell_type": "code",
   "execution_count": null,
   "id": "7b616b9d",
   "metadata": {},
   "outputs": [],
   "source": [
    "!pip3 install wordcloud"
   ]
  },
  {
   "cell_type": "code",
   "execution_count": null,
   "id": "673b8684",
   "metadata": {},
   "outputs": [],
   "source": [
    "# Set up libraries for plotting and wordcloud\n",
    "import matplotlib.pyplot as plt\n",
    "from wordcloud import WordCloud"
   ]
  },
  {
   "cell_type": "code",
   "execution_count": null,
   "id": "de916454",
   "metadata": {},
   "outputs": [],
   "source": [
    "# Filter stop words\n",
    "stop_words = ['the', 'and', 'of', 'is', 'they', 'a', 'o' 'but']"
   ]
  },
  {
   "cell_type": "code",
   "execution_count": null,
   "id": "7e495661",
   "metadata": {},
   "outputs": [],
   "source": [
    "# Create wordcloud object\n",
    "wordcloud = WordCloud(width = 1000, height = 500).generate_from_frequencies(word_dict)\n",
    "\n",
    "# Plot wordcloud\n",
    "plt.figure(figsize=(15,8))\n",
    "plt.imshow(wordcloud)"
   ]
  }
 ],
 "metadata": {
  "kernelspec": {
   "display_name": "Python 3 (ipykernel)",
   "language": "python",
   "name": "python3"
  },
  "language_info": {
   "codemirror_mode": {
    "name": "ipython",
    "version": 3
   },
   "file_extension": ".py",
   "mimetype": "text/x-python",
   "name": "python",
   "nbconvert_exporter": "python",
   "pygments_lexer": "ipython3",
   "version": "3.8.10"
  }
 },
 "nbformat": 4,
 "nbformat_minor": 5
}
