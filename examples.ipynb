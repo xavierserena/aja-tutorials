{
 "cells": [
  {
   "cell_type": "code",
   "execution_count": null,
   "id": "eca2df45",
   "metadata": {},
   "outputs": [],
   "source": []
  },
  {
   "cell_type": "markdown",
   "id": "a0321d45",
   "metadata": {},
   "source": [
    "## Lists: [ ]\n",
    "Indexing, slicing and methods"
   ]
  },
  {
   "cell_type": "code",
   "execution_count": 68,
   "id": "b7e48c4c",
   "metadata": {},
   "outputs": [
    {
     "data": {
      "text/plain": [
       "[0, 1, 2]"
      ]
     },
     "execution_count": 68,
     "metadata": {},
     "output_type": "execute_result"
    }
   ],
   "source": [
    "numbers = [-1, 1, 1, 2]\n",
    "# we can remove or change elements\n",
    "numbers.remove(-1) # 1, 1, 2; will remove the element -1 from list\n",
    "numbers[0] = 0 # 0, 1, 2 ; make the value at index 0, be 0\n",
    "numbers"
   ]
  },
  {
   "cell_type": "code",
   "execution_count": 69,
   "id": "2b9c257f",
   "metadata": {},
   "outputs": [
    {
     "data": {
      "text/plain": [
       "[0, 1, 2, 3, 4, 5]"
      ]
     },
     "execution_count": 69,
     "metadata": {},
     "output_type": "execute_result"
    }
   ],
   "source": [
    "# we can add to this list in different ways\n",
    "numbers.append(3) # 0, 1, 2, 3\n",
    "numbers += [4, 5] # 0, 1, 2, 3, 4, 5 ; only works with lists (similar to how we join strings)\n",
    "numbers"
   ]
  },
  {
   "cell_type": "code",
   "execution_count": null,
   "id": "06bb7b1f",
   "metadata": {},
   "outputs": [],
   "source": [
    "# lst[start:end:step] each argument is optional; start and end are indexes\n",
    "# end is exclusive, meaning it isn't included in the slice\n",
    "numbers[2] # 2\n",
    "numbers[1:4] # 1, 2, 3\n",
    "numbers[:2] # 0, 1\n",
    "numbers[3:] # 3, 4, 5\n",
    "numbers[::2] # 0, 2, 4\n",
    "numbers[::-1] # 5, 4, 3, 2, 1"
   ]
  },
  {
   "cell_type": "code",
   "execution_count": null,
   "id": "0a1eeee1",
   "metadata": {},
   "outputs": [],
   "source": [
    "# How do you slice numbers to return numbers 2 through 5?\n"
   ]
  },
  {
   "cell_type": "code",
   "execution_count": null,
   "id": "37e3ccb3",
   "metadata": {},
   "outputs": [],
   "source": [
    "# How do you slice numbers to return numbers 3, 2, 1 in that order?\n"
   ]
  },
  {
   "cell_type": "code",
   "execution_count": 41,
   "id": "5bc8aa11",
   "metadata": {},
   "outputs": [
    {
     "data": {
      "text/plain": [
       "6"
      ]
     },
     "execution_count": 41,
     "metadata": {},
     "output_type": "execute_result"
    }
   ],
   "source": [
    "len(numbers)"
   ]
  },
  {
   "cell_type": "code",
   "execution_count": 76,
   "id": "04217b6d",
   "metadata": {},
   "outputs": [
    {
     "data": {
      "text/plain": [
       "False"
      ]
     },
     "execution_count": 76,
     "metadata": {},
     "output_type": "execute_result"
    }
   ],
   "source": [
    "-1 in numbers"
   ]
  },
  {
   "cell_type": "code",
   "execution_count": 56,
   "id": "e47d6ab8",
   "metadata": {},
   "outputs": [
    {
     "data": {
      "text/plain": [
       "[-34, 0, 2.12, 2.67, 3.16, 99]"
      ]
     },
     "execution_count": 56,
     "metadata": {},
     "output_type": "execute_result"
    }
   ],
   "source": [
    "# Python has a built-in method to sort a list!\n",
    "random_numbers = [3.16, 2.67, 2.12, 99, -34, 0]\n",
    "random_numbers.sort()\n",
    "random_numbers"
   ]
  },
  {
   "cell_type": "markdown",
   "id": "9eff3818",
   "metadata": {},
   "source": [
    "## Strings ' '\n",
    "Indexing and common methods"
   ]
  },
  {
   "cell_type": "code",
   "execution_count": 73,
   "id": "da0eabe0",
   "metadata": {
    "scrolled": true
   },
   "outputs": [
    {
     "data": {
      "text/plain": [
       "['I', 'like', 'the', 'band', 'Peter', 'Cat', 'Recording', 'Co.']"
      ]
     },
     "execution_count": 73,
     "metadata": {},
     "output_type": "execute_result"
    }
   ],
   "source": [
    "text = 'I like the band Peter Cat Recording Co.'\n",
    "# strings are basically lists, made of characters\n",
    "text[2] # l\n",
    "text[2:6] # like\n",
    "has_like = 'like' in text # True\n",
    "uppercase = text.upper() # 'I LIKE THE BAND PETER CAT RECORDING CO.'\n",
    "text.split(' ') # will split the string wherever there's a ' ' (space)"
   ]
  },
  {
   "cell_type": "code",
   "execution_count": 75,
   "id": "88be5d3e",
   "metadata": {},
   "outputs": [],
   "source": [
    "url = 'https://www.theajaproject.org/'\n",
    "# how do we get the domain?"
   ]
  },
  {
   "cell_type": "code",
   "execution_count": null,
   "id": "ca96c151",
   "metadata": {},
   "outputs": [],
   "source": []
  }
 ],
 "metadata": {
  "kernelspec": {
   "display_name": "Python 3 (ipykernel)",
   "language": "python",
   "name": "python3"
  },
  "language_info": {
   "codemirror_mode": {
    "name": "ipython",
    "version": 3
   },
   "file_extension": ".py",
   "mimetype": "text/x-python",
   "name": "python",
   "nbconvert_exporter": "python",
   "pygments_lexer": "ipython3",
   "version": "3.9.7"
  }
 },
 "nbformat": 4,
 "nbformat_minor": 5
}
