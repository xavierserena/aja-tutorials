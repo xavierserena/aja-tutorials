{
 "cells": [
  {
   "cell_type": "markdown",
   "id": "ecf89296",
   "metadata": {},
   "source": [
    "# Welcome to our first lesson on Python!\n",
    "To run a 'cell':\n",
    "- Click on the cell\n",
    "- Either use the 'Run' button or press ⌃↩ (Ctrl+Return)"
   ]
  },
  {
   "cell_type": "code",
   "execution_count": null,
   "id": "cce32460",
   "metadata": {},
   "outputs": [],
   "source": [
    "# the # pound symbol is used to make comments\n",
    "# variable_name = value (values can be many types)\n",
    "year = 2000 # this is a number\n",
    "place = 'San Diego' # this is a string\n",
    "artists = ['Jeff', 'Lorain', 'Fardosa'] # we can also group values or variables in a list"
   ]
  },
  {
   "cell_type": "markdown",
   "id": "ced73313",
   "metadata": {},
   "source": [
    "# Hello World!"
   ]
  },
  {
   "cell_type": "markdown",
   "id": "dab527c3",
   "metadata": {},
   "source": [
    "One of the most classic things to do when programming in a new language is to create a greeting. We do this by displaying text using Python's print method. We'll evolve this function to eventually greet many people."
   ]
  },
  {
   "cell_type": "code",
   "execution_count": 1,
   "id": "026dc6c5",
   "metadata": {},
   "outputs": [
    {
     "name": "stdout",
     "output_type": "stream",
     "text": [
      "Hello Aja!\n"
     ]
    }
   ],
   "source": [
    "print('Hello Aja!')"
   ]
  },
  {
   "cell_type": "markdown",
   "id": "0e96d75b",
   "metadata": {},
   "source": [
    "Variables are placeholders for all types of data/information, including text or strings. This way, we can be more flexible when coding and can simplify logic (aka, we can abstract)."
   ]
  },
  {
   "cell_type": "code",
   "execution_count": 3,
   "id": "2af90f3b",
   "metadata": {},
   "outputs": [
    {
     "name": "stdout",
     "output_type": "stream",
     "text": [
      "Hello Xavier!\n"
     ]
    }
   ],
   "source": [
    "name = 'Xavier'\n",
    "greeting = 'Hello' + ' ' + name + '!'\n",
    "print(greeting)"
   ]
  },
  {
   "cell_type": "markdown",
   "id": "267ddeb0",
   "metadata": {},
   "source": [
    "Functions are a group of instructions than can facilitate a task by generalizing and acoomodating for different values."
   ]
  },
  {
   "cell_type": "code",
   "execution_count": null,
   "id": "3d8e5f2a",
   "metadata": {},
   "outputs": [],
   "source": [
    "def hello(name):\n",
    "    # YOUR CODE HERE"
   ]
  },
  {
   "cell_type": "code",
   "execution_count": null,
   "id": "6529ca16",
   "metadata": {},
   "outputs": [],
   "source": [
    "# Test your function here\n",
    "hello('Aja')"
   ]
  },
  {
   "cell_type": "code",
   "execution_count": null,
   "id": "ff9344cd",
   "metadata": {},
   "outputs": [],
   "source": [
    "artists = ['Jeff', 'Lorain', 'Fardosa'] # placing it here for convenience, our list of artist names\n",
    "for artist in artists:\n",
    "    print(artist)"
   ]
  },
  {
   "cell_type": "markdown",
   "id": "bce6ad39",
   "metadata": {},
   "source": [
    "Now, use what you've learned to greet all of the artists! Your solution should combine the method *hello* you defined above and a for loop to iterate over the names of the artists."
   ]
  },
  {
   "cell_type": "code",
   "execution_count": null,
   "id": "e6c08fa0",
   "metadata": {},
   "outputs": [],
   "source": []
  }
 ],
 "metadata": {
  "kernelspec": {
   "display_name": "Python 3 (ipykernel)",
   "language": "python",
   "name": "python3"
  },
  "language_info": {
   "codemirror_mode": {
    "name": "ipython",
    "version": 3
   },
   "file_extension": ".py",
   "mimetype": "text/x-python",
   "name": "python",
   "nbconvert_exporter": "python",
   "pygments_lexer": "ipython3",
   "version": "3.9.7"
  }
 },
 "nbformat": 4,
 "nbformat_minor": 5
}
