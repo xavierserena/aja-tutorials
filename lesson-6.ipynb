{
 "cells": [
  {
   "cell_type": "code",
   "execution_count": 13,
   "id": "d2843f88",
   "metadata": {},
   "outputs": [],
   "source": [
    "class Dog:\n",
    "    \n",
    "    def __init__(self, name, breed, age):\n",
    "        self.name = name\n",
    "        self.breed = breed\n",
    "        self.age = age\n",
    "        \n",
    "    def speak(self):\n",
    "        print('Woof!')\n",
    "        "
   ]
  },
  {
   "cell_type": "code",
   "execution_count": 14,
   "id": "7638f5d0",
   "metadata": {},
   "outputs": [
    {
     "name": "stdout",
     "output_type": "stream",
     "text": [
      "Woof!\n"
     ]
    }
   ],
   "source": [
    "luna = Dog('Luna', 'Wolfhound', 3)\n",
    "luna.name # 'Luna'\n",
    "luna.breed # 'Wolfhound'\n",
    "luna.age # 3\n",
    "luna.speak()"
   ]
  },
  {
   "cell_type": "code",
   "execution_count": null,
   "id": "afef5a8f",
   "metadata": {},
   "outputs": [],
   "source": [
    "# Now you define your own favorite dog\n"
   ]
  },
  {
   "cell_type": "code",
   "execution_count": 15,
   "id": "f6ca3380",
   "metadata": {},
   "outputs": [],
   "source": [
    "# How would we represent a cat?\n",
    "class Cat:\n",
    "    \n",
    "    def __init__(self, name, breed, age):\n",
    "        self.name = name\n",
    "        self.breed = breed\n",
    "        self.age = age\n",
    "        \n",
    "    def speak(self):\n",
    "        print('Meow!')"
   ]
  },
  {
   "cell_type": "code",
   "execution_count": 17,
   "id": "bbdb7f0f",
   "metadata": {},
   "outputs": [
    {
     "name": "stdout",
     "output_type": "stream",
     "text": [
      "Meow!\n"
     ]
    }
   ],
   "source": [
    "ivy = Cat('Ivy', 'Siamese', 3)\n",
    "ivy.name # 'Ivy'\n",
    "ivy.breed # 'Siamese'\n",
    "ivy.age # 3\n",
    "ivy.speak()"
   ]
  },
  {
   "cell_type": "markdown",
   "id": "18994b73",
   "metadata": {},
   "source": [
    "What about hamsters, parrots... all types of pets, and it's redundant to repeat the same initializer for all of them. We can create a more general class: Pet"
   ]
  },
  {
   "cell_type": "code",
   "execution_count": 30,
   "id": "9113c251",
   "metadata": {},
   "outputs": [],
   "source": [
    "class Pet:\n",
    "    \n",
    "    def __init__(self, name, breed, age, owner=None):\n",
    "        self.name = name\n",
    "        self.breed = breed\n",
    "        self.age = age\n",
    "        self.owner = owner\n",
    "        \n",
    "    def adoptedBy(self, owner):\n",
    "        self.owner = owner"
   ]
  },
  {
   "cell_type": "code",
   "execution_count": 31,
   "id": "e9e54593",
   "metadata": {},
   "outputs": [
    {
     "name": "stdout",
     "output_type": "stream",
     "text": [
      "Squeak!\n"
     ]
    }
   ],
   "source": [
    "class Hamster(Pet): # we are declaring Hamster to be a type of Pet thus inheriting some things\n",
    "    \n",
    "    def __init__(self, name, breed, age, owner=None):\n",
    "        Pet.__init__(self, name, breed, age, owner)\n",
    "\n",
    "    def speak(self):\n",
    "        print('Squeak!')\n",
    "\n",
    "louis = Hamster('Louis', 'Syrian', 1)\n",
    "louis.name # 'Louis'\n",
    "louis.breed # 'Syrian'\n",
    "louis.speak()"
   ]
  },
  {
   "cell_type": "code",
   "execution_count": 24,
   "id": "1827138f",
   "metadata": {},
   "outputs": [
    {
     "name": "stdout",
     "output_type": "stream",
     "text": [
      "None\n"
     ]
    }
   ],
   "source": [
    "print(louis.owner) # no one to take care of Louis :("
   ]
  },
  {
   "cell_type": "code",
   "execution_count": 32,
   "id": "af4dac26",
   "metadata": {},
   "outputs": [
    {
     "name": "stdout",
     "output_type": "stream",
     "text": [
      "Xavier\n"
     ]
    }
   ],
   "source": [
    "# I will adopt Louis\n",
    "louis.adoptedBy('Xavier')\n",
    "print(louis.owner)"
   ]
  },
  {
   "cell_type": "code",
   "execution_count": null,
   "id": "a27269e0",
   "metadata": {},
   "outputs": [],
   "source": [
    "# But how do I know which are my pets? How do we known which pets I have?\n",
    "class Person:\n",
    "    \n",
    "    ..."
   ]
  },
  {
   "cell_type": "code",
   "execution_count": null,
   "id": "7bca9f78",
   "metadata": {},
   "outputs": [],
   "source": [
    "# Make a person object\n"
   ]
  },
  {
   "cell_type": "code",
   "execution_count": null,
   "id": "83c7802d",
   "metadata": {},
   "outputs": [],
   "source": [
    "# Adopt pets\n"
   ]
  }
 ],
 "metadata": {
  "kernelspec": {
   "display_name": "Python 3 (ipykernel)",
   "language": "python",
   "name": "python3"
  },
  "language_info": {
   "codemirror_mode": {
    "name": "ipython",
    "version": 3
   },
   "file_extension": ".py",
   "mimetype": "text/x-python",
   "name": "python",
   "nbconvert_exporter": "python",
   "pygments_lexer": "ipython3",
   "version": "3.9.7"
  }
 },
 "nbformat": 4,
 "nbformat_minor": 5
}
