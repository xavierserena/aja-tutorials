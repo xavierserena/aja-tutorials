{
 "cells": [
  {
   "cell_type": "code",
   "execution_count": null,
   "id": "80b78c45",
   "metadata": {},
   "outputs": [],
   "source": [
    "# Numbers\n",
    "year = 2021 # Whole numbers are integers\n",
    "price = 19.99 # Decimals are called floats\n",
    "pi_approx = 3.141592653589 # They can have many decimals\n",
    "\n",
    "seconds_in_an_hour = 60\n",
    "hours_in_a_day = 24\n",
    "seconds_in_a_day = seconds_in_an_hour * hours_in_a_day # We can do a lot of arithmetic with numbers\n",
    "\n",
    "hourly_wage =   # Assume we make $20/hr\n",
    "hours_worked_per_day =   # Assume we work 7 hrs/day\n",
    "daily_wage =  \n",
    "weekly_wage =  # Assume we work 5 days/week\n",
    "yearly_wage =  # Assume we work 50 weeks/year"
   ]
  },
  {
   "cell_type": "code",
   "execution_count": 5,
   "id": "8624f124",
   "metadata": {},
   "outputs": [],
   "source": [
    "# Strings (words, characters, single or multiple)\n",
    "name = \"Xavier\" # string are created by using matching apostrophes which can be '' or \"\"\n",
    "username = 'xserena'\n",
    "domain = 'berkeley.edu'\n",
    "email = username + '@' + domain # can join (aka concatenate strings)\n",
    "email = f'{username}@{domain}' # we can also format a string like this. whichever makes sense to you f'string{variable}'\n",
    "phone = '(619) 551-4323'\n",
    "secret_password = 'g0b3ars!!!!'\n",
    "long_string = ''' strings in python are a series of characters (of any kind) and can be \n",
    "really, really, really, really, really long. You could store a book in a string if you want though\n",
    "you\\'d likely use a lot of space!'''\n",
    "\n",
    "# Fill these to practice!\n",
    "university = 'University of California, Berkeley 🐻'\n",
    "work = 'Aja 📷'\n",
    "hobby = 'Surfing 🏄‍♂️'\n",
    "favorite_movie = 'Arrival 👾'\n",
    "favorite_food = 'Chilaquiles de chipotle con huevo estrellado encima 😋'\n",
    "introduction = f\"Hi! I'm {name}, I study at {university} and work at {work}. I enjoy {hobby}, my favorite movie is {favorite_movie} and favorite food is '{favorite_food}'\"\n",
    "print(introduction)"
   ]
  },
  {
   "cell_type": "code",
   "execution_count": null,
   "id": "a98139d2",
   "metadata": {},
   "outputs": [],
   "source": [
    "# Lists can hold multiple values and variables, of multiple types and are created using matching []\n",
    "indexes = [0, 1, 2, 3, 4, 5] # places in a list are numbered, or indexed, starting at 0; elements are separated by commas\n",
    "shopping_list = ['milk', 'heavy cream', 'pumpkin', 'salmon', 'eggs', 'frozen pizza']\n",
    "milk = shopping_list[0]\n",
    "cream = shoppin_list[1]\n",
    "# ...\n",
    "list_slice"
   ]
  },
  {
   "cell_type": "code",
   "execution_count": null,
   "id": "cb7fff60",
   "metadata": {},
   "outputs": [],
   "source": [
    "def a(n):\n",
    "    print('Function a')\n",
    "    return n * 2\n",
    "\n",
    "def b(n):\n",
    "    print('Function b')\n",
    "    return -n\n",
    "\n",
    "n = 5\n",
    "n = a(n)\n",
    "print(n)"
   ]
  },
  {
   "cell_type": "code",
   "execution_count": null,
   "id": "5848565d",
   "metadata": {},
   "outputs": [],
   "source": []
  }
 ],
 "metadata": {
  "kernelspec": {
   "display_name": "Python 3 (ipykernel)",
   "language": "python",
   "name": "python3"
  },
  "language_info": {
   "codemirror_mode": {
    "name": "ipython",
    "version": 3
   },
   "file_extension": ".py",
   "mimetype": "text/x-python",
   "name": "python",
   "nbconvert_exporter": "python",
   "pygments_lexer": "ipython3",
   "version": "3.9.7"
  }
 },
 "nbformat": 4,
 "nbformat_minor": 5
}
