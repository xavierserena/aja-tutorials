{
 "cells": [
  {
   "cell_type": "code",
   "execution_count": 1,
   "id": "1f8ccd63",
   "metadata": {},
   "outputs": [
    {
     "name": "stdout",
     "output_type": "stream",
     "text": [
      "Requirement already satisfied: matplotlib in /Users/theajaproject/opt/anaconda3/lib/python3.9/site-packages (3.4.3)\r\n",
      "Requirement already satisfied: numpy>=1.16 in /Users/theajaproject/opt/anaconda3/lib/python3.9/site-packages (from matplotlib) (1.20.3)\r\n",
      "Requirement already satisfied: kiwisolver>=1.0.1 in /Users/theajaproject/opt/anaconda3/lib/python3.9/site-packages (from matplotlib) (1.3.1)\r\n",
      "Requirement already satisfied: pyparsing>=2.2.1 in /Users/theajaproject/opt/anaconda3/lib/python3.9/site-packages (from matplotlib) (3.0.4)\r\n",
      "Requirement already satisfied: python-dateutil>=2.7 in /Users/theajaproject/opt/anaconda3/lib/python3.9/site-packages (from matplotlib) (2.8.2)\r\n",
      "Requirement already satisfied: cycler>=0.10 in /Users/theajaproject/opt/anaconda3/lib/python3.9/site-packages (from matplotlib) (0.10.0)\r\n",
      "Requirement already satisfied: pillow>=6.2.0 in /Users/theajaproject/opt/anaconda3/lib/python3.9/site-packages (from matplotlib) (8.4.0)\r\n",
      "Requirement already satisfied: six in /Users/theajaproject/opt/anaconda3/lib/python3.9/site-packages (from cycler>=0.10->matplotlib) (1.16.0)\r\n"
     ]
    }
   ],
   "source": [
    "!pip install matplotlib"
   ]
  },
  {
   "cell_type": "code",
   "execution_count": 2,
   "id": "14738121",
   "metadata": {},
   "outputs": [],
   "source": [
    "# Import libraries\n",
    "import matplotlib.pyplot as plt"
   ]
  },
  {
   "cell_type": "code",
   "execution_count": 3,
   "id": "ed27383a",
   "metadata": {},
   "outputs": [],
   "source": [
    "def char_to_dec(c):\n",
    "    '''\n",
    "    Takes in a char c and returns a decimal [0, 1]\n",
    "    '''\n",
    "    ascii_c = int(ord(c))\n",
    "    return (6 * (ascii_c - 97) + 105) / 255"
   ]
  },
  {
   "cell_type": "code",
   "execution_count": 4,
   "id": "2180091f",
   "metadata": {},
   "outputs": [],
   "source": [
    "def name_to_rgb(name):\n",
    "    '''\n",
    "    Takes in a str name and returns a list of rgb values [[r, g, b], ...]\n",
    "    '''\n",
    "    colors = []\n",
    "    pad = name[-1] + name + name[0]\n",
    "    for i in range(1, len(name) + 1):\n",
    "        r = char_to_dec(pad[i-1])\n",
    "        g = char_to_dec(pad[i])\n",
    "        b = char_to_dec(pad[i+1])\n",
    "        color_i = [r, g, b]\n",
    "        colors.append(color_i)\n",
    "    return colors"
   ]
  },
  {
   "cell_type": "code",
   "execution_count": 5,
   "id": "7e2217da",
   "metadata": {},
   "outputs": [],
   "source": [
    "def plot_name(name):\n",
    "    '''\n",
    "    Plots the colors for the given name.\n",
    "    '''\n",
    "    name_in = name.lower().replace(' ', '') # make every name lowercase and replace spacing\n",
    "    rgb_name = ___ # get name rgb values\n",
    "    \n",
    "    # Fancy plotting stuff\n",
    "    title = f'{name}'\n",
    "    plt.title(title)\n",
    "    plt.tight_layout()\n",
    "    plt.axis('off')\n",
    "    plt.imshow([rgb_name])\n",
    "    plt.show()"
   ]
  },
  {
   "cell_type": "code",
   "execution_count": 6,
   "id": "34463e99",
   "metadata": {},
   "outputs": [
    {
     "data": {
      "image/png": "[encoded data removed]",
      "text/plain": [
       "<Figure size 432x288 with 1 Axes>"
      ]
     },
     "metadata": {
      "needs_background": "light"
     },
     "output_type": "display_data"
    }
   ],
   "source": [
    "plot_name('Xavier')"
   ]
  },
  {
   "cell_type": "code",
   "execution_count": 7,
   "id": "c941c84e",
   "metadata": {},
   "outputs": [
    {
     "data": {
      "image/png": "[encoded data removed]",
      "text/plain": [
       "<Figure size 432x288 with 1 Axes>"
      ]
     },
     "metadata": {
      "needs_background": "light"
     },
     "output_type": "display_data"
    }
   ],
   "source": [
    "plot_name('Faiza')"
   ]
  },
  {
   "cell_type": "code",
   "execution_count": 8,
   "id": "52bb6f3e",
   "metadata": {},
   "outputs": [
    {
     "data": {
      "image/png": "[encoded data removed]",
      "text/plain": [
       "<Figure size 432x288 with 1 Axes>"
      ]
     },
     "metadata": {
      "needs_background": "light"
     },
     "output_type": "display_data"
    }
   ],
   "source": [
    "plot_name('Rizz')"
   ]
  },
  {
   "cell_type": "code",
   "execution_count": 9,
   "id": "4570bc8b",
   "metadata": {},
   "outputs": [
    {
     "data": {
      "image/png": "[encoded data removed]",
      "text/plain": [
       "<Figure size 432x288 with 1 Axes>"
      ]
     },
     "metadata": {
      "needs_background": "light"
     },
     "output_type": "display_data"
    }
   ],
   "source": [
    "plot_name('Chitra')"
   ]
  }
 ],
 "metadata": {
  "kernelspec": {
   "display_name": "Python 3 (ipykernel)",
   "language": "python",
   "name": "python3"
  },
  "language_info": {
   "codemirror_mode": {
    "name": "ipython",
    "version": 3
   },
   "file_extension": ".py",
   "mimetype": "text/x-python",
   "name": "python",
   "nbconvert_exporter": "python",
   "pygments_lexer": "ipython3",
   "version": "3.9.7"
  }
 },
 "nbformat": 4,
 "nbformat_minor": 5
}
