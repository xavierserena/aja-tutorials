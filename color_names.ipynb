{
 "cells": [
  {
   "cell_type": "code",
   "execution_count": 4,
   "id": "17223b70",
   "metadata": {},
   "outputs": [],
   "source": [
    "# Import libraries\n",
    "import matplotlib.pyplot as plt\n",
    "import numpy as np"
   ]
  },
  {
   "cell_type": "code",
   "execution_count": 280,
   "id": "7040fe20",
   "metadata": {},
   "outputs": [],
   "source": [
    "def char_to_dec(c):\n",
    "    '''\n",
    "    Takes in a char c and returns a decimal [0, 1]\n",
    "    '''\n",
    "    ascii_c = int(ord(c))\n",
    "    return (6 * (ascii_c - 97) + 105) / 255"
   ]
  },
  {
   "cell_type": "code",
   "execution_count": 258,
   "id": "45b19b01",
   "metadata": {},
   "outputs": [],
   "source": [
    "def name_to_rgb(name):\n",
    "    '''\n",
    "    Takes in a str name and returns a list of rgb values [[r, g, b], ...]\n",
    "    '''\n",
    "    colors = []\n",
    "    pad = name[-1] + name + name[0]\n",
    "    for i in range(1, len(name) + 1):\n",
    "        r, g, b = char_to_dec(pad[i-1]), char_to_dec(pad[i]), char_to_dec(pad[i+1])\n",
    "        color_i = [r, g, b]\n",
    "        colors.append(color_i)\n",
    "    return colors"
   ]
  },
  {
   "cell_type": "code",
   "execution_count": 299,
   "id": "9b9e14d4",
   "metadata": {},
   "outputs": [],
   "source": [
    "def plot_name(name):\n",
    "    '''\n",
    "    Plots the colors for the given name.\n",
    "    '''\n",
    "    name_in = name.lower().replace(' ', '')\n",
    "    rgb_name = name_to_rgb(name_in)\n",
    "    title = f'{name}'\n",
    "    plt.title(title)\n",
    "    plt.tight_layout()\n",
    "    plt.axis('off')\n",
    "    plt.imshow([rgb_name])\n",
    "    plt.show()"
   ]
  },
  {
   "cell_type": "code",
   "execution_count": 300,
   "id": "b1956f6d",
   "metadata": {},
   "outputs": [
    {
     "data": {
      "image/png": "[encoded data removed]",
      "text/plain": [
       "<Figure size 432x288 with 1 Axes>"
      ]
     },
     "metadata": {
      "needs_background": "light"
     },
     "output_type": "display_data"
    }
   ],
   "source": [
    "plot_name('Xavier')"
   ]
  },
  {
   "cell_type": "code",
   "execution_count": 301,
   "id": "158e703c",
   "metadata": {},
   "outputs": [
    {
     "data": {
      "image/png": "[encoded data removed]",
      "text/plain": [
       "<Figure size 432x288 with 1 Axes>"
      ]
     },
     "metadata": {
      "needs_background": "light"
     },
     "output_type": "display_data"
    }
   ],
   "source": [
    "plot_name('Fardosa')"
   ]
  },
  {
   "cell_type": "code",
   "execution_count": 302,
   "id": "6b31234c",
   "metadata": {},
   "outputs": [
    {
     "data": {
      "image/png": "[encoded data removed]",
      "text/plain": [
       "<Figure size 432x288 with 1 Axes>"
      ]
     },
     "metadata": {
      "needs_background": "light"
     },
     "output_type": "display_data"
    }
   ],
   "source": [
    "plot_name('Lorain')"
   ]
  },
  {
   "cell_type": "code",
   "execution_count": 303,
   "id": "904751d9",
   "metadata": {},
   "outputs": [
    {
     "data": {
      "image/png": "[encoded data removed]",
      "text/plain": [
       "<Figure size 432x288 with 1 Axes>"
      ]
     },
     "metadata": {
      "needs_background": "light"
     },
     "output_type": "display_data"
    }
   ],
   "source": [
    "plot_name('Jeff')"
   ]
  }
 ],
 "metadata": {
  "kernelspec": {
   "display_name": "Python 3 (ipykernel)",
   "language": "python",
   "name": "python3"
  },
  "language_info": {
   "codemirror_mode": {
    "name": "ipython",
    "version": 3
   },
   "file_extension": ".py",
   "mimetype": "text/x-python",
   "name": "python",
   "nbconvert_exporter": "python",
   "pygments_lexer": "ipython3",
   "version": "3.9.7"
  }
 },
 "nbformat": 4,
 "nbformat_minor": 5
}
