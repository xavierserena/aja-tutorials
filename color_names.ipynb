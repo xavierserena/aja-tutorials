{
 "cells": [
  {
   "cell_type": "markdown",
   "id": "d49279dd",
   "metadata": {},
   "source": [
    "To run a 'cell':\n",
    "- Click on the cell\n",
    "- Either use the 'Run' button or press ⌃↩ (Ctrl+Return)"
   ]
  },
  {
   "cell_type": "code",
   "execution_count": 1,
   "id": "1f8ccd63",
   "metadata": {},
   "outputs": [
    {
     "name": "stdout",
     "output_type": "stream",
     "text": [
      "Requirement already satisfied: matplotlib in /Users/theajaproject/opt/anaconda3/lib/python3.9/site-packages (3.4.3)\n",
      "Requirement already satisfied: python-dateutil>=2.7 in /Users/theajaproject/opt/anaconda3/lib/python3.9/site-packages (from matplotlib) (2.8.2)\n",
      "Requirement already satisfied: pillow>=6.2.0 in /Users/theajaproject/opt/anaconda3/lib/python3.9/site-packages (from matplotlib) (8.4.0)\n",
      "Requirement already satisfied: kiwisolver>=1.0.1 in /Users/theajaproject/opt/anaconda3/lib/python3.9/site-packages (from matplotlib) (1.3.1)\n",
      "Requirement already satisfied: numpy>=1.16 in /Users/theajaproject/opt/anaconda3/lib/python3.9/site-packages (from matplotlib) (1.20.3)\n",
      "Requirement already satisfied: cycler>=0.10 in /Users/theajaproject/opt/anaconda3/lib/python3.9/site-packages (from matplotlib) (0.10.0)\n",
      "Requirement already satisfied: pyparsing>=2.2.1 in /Users/theajaproject/opt/anaconda3/lib/python3.9/site-packages (from matplotlib) (3.0.4)\n",
      "Requirement already satisfied: six in /Users/theajaproject/opt/anaconda3/lib/python3.9/site-packages (from cycler>=0.10->matplotlib) (1.16.0)\n"
     ]
    }
   ],
   "source": [
    "!pip install matplotlib"
   ]
  },
  {
   "cell_type": "code",
   "execution_count": 2,
   "id": "14738121",
   "metadata": {},
   "outputs": [],
   "source": [
    "# Import libraries (open source code)\n",
    "import matplotlib.pyplot as plt # used to plot"
   ]
  },
  {
   "cell_type": "markdown",
   "id": "73f79af5",
   "metadata": {},
   "source": [
    "How do we go from a name to colors?\n",
    "\n",
    "A **name** is composed of **characters**\n",
    "\n",
    "A **character** has an **intenger**, ascii value\n",
    "\n",
    "A **numeric** value can be an **r, g, or b** value\n",
    "\n",
    "We can group characters in three to correspond to a group of (r, g, b) values"
   ]
  },
  {
   "cell_type": "code",
   "execution_count": 3,
   "id": "ed27383a",
   "metadata": {},
   "outputs": [
    {
     "name": "stdout",
     "output_type": "stream",
     "text": [
      "8FB3BE\n",
      "B3BEA8\n",
      "BEA8BE\n",
      "A8BEC9\n",
      "BEC9A8\n",
      "C9A88F\n",
      "A88FB3\n"
     ]
    },
    {
     "data": {
      "image/png": "[encoded data removed]",
      "text/plain": [
       "<Figure size 432x288 with 1 Axes>"
      ]
     },
     "metadata": {
      "needs_background": "light"
     },
     "output_type": "display_data"
    }
   ],
   "source": [
    "def char_to_dec(c):\n",
    "    '''\n",
    "    Takes in a char c and returns a decimal [0, 1]\n",
    "    '''\n",
    "    ascii_c = int(ord(c))\n",
    "    brightness = 140\n",
    "    ascii_range = 97\n",
    "    shift = 10  # You can change this\n",
    "    scale = 255 # You can change this\n",
    "    return (scale * abs(ascii_c - ascii_range - shift) % ascii_range + brightness) / 255\n",
    "\n",
    "def rgb_to_hex(r, g, b):\n",
    "    '''\n",
    "    Takes in three normalized values (r, g, b) and returns a hex string\n",
    "    '''\n",
    "    r, g, b = int(255*r), int(255*g), int(255*b)\n",
    "    return '{:X}{:X}{:X}'.format(r, g, b)\n",
    "\n",
    "def name_to_rgb(name):\n",
    "    '''\n",
    "    Takes in a str name and returns a list of normalized rgb values [[r, g, b], ...] from 0 to 1\n",
    "    '''\n",
    "    colors = []\n",
    "    name = name.lower().replace(' ', '') # make every name lowercase and replace spacing\n",
    "    pad = name[-1] + name + name[0]\n",
    "    for i in range(1, len(name) + 1):\n",
    "        r = char_to_dec(pad[i-1])\n",
    "        g = char_to_dec(pad[i])\n",
    "        b = char_to_dec(pad[i+1])\n",
    "        color_i = [r, g, b]\n",
    "        colors.append(color_i)\n",
    "        print(rgb_to_hex(r, g, b))\n",
    "    return colors\n",
    "\n",
    "def plot_colors(title, rgb_colors):\n",
    "    '''\n",
    "    Displays the colors and title\n",
    "    '''\n",
    "    plt.title(title)\n",
    "    plt.tight_layout()\n",
    "    plt.axis('off')\n",
    "    plt.imshow([rgb_colors])\n",
    "    return plt.show()\n",
    "    \n",
    "def plot_name_to_color(name):\n",
    "    '''\n",
    "    Plots the colors for the given name.\n",
    "    '''\n",
    "    # Convert name to rgb values\n",
    "    rgb_name = name_to_rgb(name)\n",
    "    \n",
    "    # Plot the rgb values\n",
    "    plot_colors(name, rgb_name)\n",
    "    \n",
    "plot_name_to_color('Douglas')"
   ]
  },
  {
   "cell_type": "markdown",
   "id": "6b58665c",
   "metadata": {},
   "source": [
    "Don't like the colors you got? Try changing the `scale` or `shift` above and rerun the cell!"
   ]
  }
 ],
 "metadata": {
  "kernelspec": {
   "display_name": "Python 3 (ipykernel)",
   "language": "python",
   "name": "python3"
  },
  "language_info": {
   "codemirror_mode": {
    "name": "ipython",
    "version": 3
   },
   "file_extension": ".py",
   "mimetype": "text/x-python",
   "name": "python",
   "nbconvert_exporter": "python",
   "pygments_lexer": "ipython3",
   "version": "3.9.7"
  }
 },
 "nbformat": 4,
 "nbformat_minor": 5
}
