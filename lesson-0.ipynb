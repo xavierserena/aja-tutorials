{
 "cells": [
  {
   "cell_type": "markdown",
   "id": "ced73313",
   "metadata": {},
   "source": [
    "# Hello World!"
   ]
  },
  {
   "cell_type": "markdown",
   "id": "dab527c3",
   "metadata": {},
   "source": [
    "One of the most classic things to do when programming in a new language is to create a greeting. We do this by displaying text using Python's print method. We'll evolve this function to eventually greet many people."
   ]
  },
  {
   "cell_type": "code",
   "execution_count": null,
   "id": "026dc6c5",
   "metadata": {},
   "outputs": [],
   "source": [
    "print('Hello AjA!')"
   ]
  },
  {
   "cell_type": "markdown",
   "id": "0e96d75b",
   "metadata": {},
   "source": [
    "Variables are placeholders for all types of data/information, including text or strings. This way, we can be more flexible when coding and can simplify logic (aka, we can abstract)."
   ]
  },
  {
   "cell_type": "code",
   "execution_count": 3,
   "id": "2af90f3b",
   "metadata": {},
   "outputs": [
    {
     "name": "stdout",
     "output_type": "stream",
     "text": [
      "Hello Xavier!\n"
     ]
    }
   ],
   "source": [
    "name = 'Xavier'\n",
    "greeting = 'Hello' + ' ' + name + '!'\n",
    "print(greeting)"
   ]
  },
  {
   "cell_type": "markdown",
   "id": "0f32722a",
   "metadata": {},
   "source": [
    "What's another way that we've learned how to format a string with a variable?"
   ]
  },
  {
   "cell_type": "code",
   "execution_count": null,
   "id": "269150eb",
   "metadata": {},
   "outputs": [],
   "source": [
    "name = 'Xavier'\n",
    "greeting = f'Hello {name}!'\n",
    "print(greeting)"
   ]
  },
  {
   "cell_type": "markdown",
   "id": "267ddeb0",
   "metadata": {},
   "source": [
    "Functions are a group of instructions than can facilitate a task by generalizing and acoomodating for different values."
   ]
  },
  {
   "cell_type": "code",
   "execution_count": null,
   "id": "3d8e5f2a",
   "metadata": {},
   "outputs": [],
   "source": [
    "def hello(name):\n",
    "    # YOUR CODE HERE"
   ]
  },
  {
   "cell_type": "code",
   "execution_count": null,
   "id": "6529ca16",
   "metadata": {},
   "outputs": [],
   "source": [
    "# Test your function here\n",
    "hello('Aja')"
   ]
  },
  {
   "cell_type": "markdown",
   "id": "bce6ad39",
   "metadata": {},
   "source": [
    "Now, use what you've learned to greet all of the artists! Your solution should combine the method *hello* you defined above and a for loop to iterate over the names of the artists."
   ]
  },
  {
   "cell_type": "code",
   "execution_count": null,
   "id": "e6c08fa0",
   "metadata": {},
   "outputs": [],
   "source": []
  },
  {
   "cell_type": "code",
   "execution_count": null,
   "id": "18342b88",
   "metadata": {},
   "outputs": [],
   "source": [
    "# Lists can hold multiple values and variables, of multiple types and are created using matching []\n",
    "indexes = [0, 1, 2, 3, 4, 5] # places in a list are numbered, or indexed, starting at 0; elements are separated by commas\n",
    "shopping_list = ['milk', 'heavy cream', 'pumpkin', 'salmon', 'eggs', 'frozen pizza']\n",
    "mix = [0, 'pizza', '👾', indexes]\n",
    "milk = shopping_list[0]\n",
    "cream = shoppin_list[1]\n",
    "# ..."
   ]
  },
  {
   "cell_type": "code",
   "execution_count": null,
   "id": "1ae0ffb3",
   "metadata": {},
   "outputs": [],
   "source": [
    "def a(n):\n",
    "    print('Function a')\n",
    "    return n * 2\n",
    "\n",
    "def b(n):\n",
    "    print('Function b')\n",
    "    return -n\n",
    "\n",
    "n = 5\n",
    "n = a(n)\n",
    "n = b(n)\n",
    "print(n)"
   ]
  }
 ],
 "metadata": {
  "kernelspec": {
   "display_name": "Python 3 (ipykernel)",
   "language": "python",
   "name": "python3"
  },
  "language_info": {
   "codemirror_mode": {
    "name": "ipython",
    "version": 3
   },
   "file_extension": ".py",
   "mimetype": "text/x-python",
   "name": "python",
   "nbconvert_exporter": "python",
   "pygments_lexer": "ipython3",
   "version": "3.8.10"
  }
 },
 "nbformat": 4,
 "nbformat_minor": 5
}
