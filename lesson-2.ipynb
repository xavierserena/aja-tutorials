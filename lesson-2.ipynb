{
 "cells": [
  {
   "cell_type": "markdown",
   "id": "2a83b4a2",
   "metadata": {},
   "source": [
    "# Variables"
   ]
  },
  {
   "cell_type": "markdown",
   "id": "dd0b862e",
   "metadata": {},
   "source": [
    "Variables will keep the last value given in its respective environment and return its value when called"
   ]
  },
  {
   "cell_type": "code",
   "execution_count": 6,
   "id": "825049df",
   "metadata": {},
   "outputs": [
    {
     "name": "stdout",
     "output_type": "stream",
     "text": [
      "a + b 8\n",
      "a + b 10\n"
     ]
    }
   ],
   "source": [
    "# Despite running the same line, we get different results!\n",
    "a = 5\n",
    "b = 3\n",
    "print('a + b', a + b)\n",
    "a = 7\n",
    "print('a + b', a + b)"
   ]
  },
  {
   "cell_type": "code",
   "execution_count": null,
   "id": "0c2c8842",
   "metadata": {},
   "outputs": [],
   "source": [
    "a = 2\n",
    "a = a + 2 # a += 2 (increase a by 2)\n",
    "print('a', a)"
   ]
  },
  {
   "cell_type": "code",
   "execution_count": null,
   "id": "a14679f3",
   "metadata": {},
   "outputs": [],
   "source": [
    "a = 4\n",
    "a += a # increase by a\n",
    "a += a # increase by a\n",
    "print('a', a)"
   ]
  },
  {
   "cell_type": "markdown",
   "id": "ffc097ac",
   "metadata": {},
   "source": [
    "# Functions"
   ]
  },
  {
   "cell_type": "markdown",
   "id": "b58ecd50",
   "metadata": {},
   "source": [
    "Functions as a group of instructions help generalize an output with a given input, and reduce repetition"
   ]
  },
  {
   "cell_type": "code",
   "execution_count": 3,
   "id": "7d6bb70c",
   "metadata": {},
   "outputs": [
    {
     "data": {
      "text/plain": [
       "11.0"
      ]
     },
     "execution_count": 3,
     "metadata": {},
     "output_type": "execute_result"
    }
   ],
   "source": [
    "def split_bill(total):\n",
    "    tip = total * 0.1 # suggested tipping\n",
    "    total += tip # add tip to total\n",
    "    return total / 2 # split total\n",
    "split_bill(20)"
   ]
  },
  {
   "cell_type": "code",
   "execution_count": 5,
   "id": "23ac49e9",
   "metadata": {},
   "outputs": [
    {
     "data": {
      "text/plain": [
       "'!olleH'"
      ]
     },
     "execution_count": 5,
     "metadata": {},
     "output_type": "execute_result"
    }
   ],
   "source": [
    "def reverse(string):\n",
    "    return string[::-1]\n",
    "reverse('Hello!')"
   ]
  },
  {
   "cell_type": "markdown",
   "id": "ced73313",
   "metadata": {},
   "source": [
    "# Hello World!"
   ]
  },
  {
   "cell_type": "markdown",
   "id": "dab527c3",
   "metadata": {},
   "source": [
    "One of the most classic things to do when programming in a new language is to create a greeting. We do this by displaying text using Python's print method. We'll evolve this function to eventually greet many people."
   ]
  },
  {
   "cell_type": "code",
   "execution_count": null,
   "id": "026dc6c5",
   "metadata": {},
   "outputs": [],
   "source": [
    "print('Hello AjA!')"
   ]
  },
  {
   "cell_type": "markdown",
   "id": "0e96d75b",
   "metadata": {},
   "source": [
    "Variables are placeholders for all types of data/information, including text or strings. This way, we can be more flexible when coding and can simplify logic (aka, we can abstract)."
   ]
  },
  {
   "cell_type": "code",
   "execution_count": 3,
   "id": "2af90f3b",
   "metadata": {},
   "outputs": [
    {
     "name": "stdout",
     "output_type": "stream",
     "text": [
      "Hello Xavier!\n"
     ]
    }
   ],
   "source": [
    "name = 'Xavier'\n",
    "greeting = 'Hello' + ' ' + name + '!'\n",
    "print(greeting)"
   ]
  },
  {
   "cell_type": "markdown",
   "id": "04dd7a9a",
   "metadata": {},
   "source": [
    "What's another way that we've learned how to format a string with a variable?"
   ]
  },
  {
   "cell_type": "code",
   "execution_count": 1,
   "id": "556c9f80",
   "metadata": {},
   "outputs": [
    {
     "name": "stdout",
     "output_type": "stream",
     "text": [
      "Hello Xavier!\n"
     ]
    }
   ],
   "source": [
    "name = 'Xavier'\n",
    "greeting = f'Hello {name}!'\n",
    "print(greeting)"
   ]
  },
  {
   "cell_type": "markdown",
   "id": "267ddeb0",
   "metadata": {},
   "source": [
    "Functions can help generalize and repeat this greeting while *varying* the input"
   ]
  },
  {
   "cell_type": "code",
   "execution_count": null,
   "id": "3d8e5f2a",
   "metadata": {},
   "outputs": [],
   "source": [
    "def hello(name):\n",
    "    # YOUR CODE HERE"
   ]
  },
  {
   "cell_type": "code",
   "execution_count": null,
   "id": "6529ca16",
   "metadata": {},
   "outputs": [],
   "source": [
    "# Test your function here\n",
    "hello('Aja')"
   ]
  },
  {
   "cell_type": "markdown",
   "id": "bce6ad39",
   "metadata": {},
   "source": [
    "Now, use what you've learned to greet your friends! Select three names and say hello three times (one per name): <br>\n",
    "*Hello Fardosa! <br>\n",
    "Hello Lorain! <br>\n",
    "Hello Jeff!*"
   ]
  },
  {
   "cell_type": "code",
   "execution_count": null,
   "id": "4b3b5856",
   "metadata": {},
   "outputs": [],
   "source": [
    "# Say hello to three friends!\n"
   ]
  },
  {
   "cell_type": "markdown",
   "id": "939b8661",
   "metadata": {},
   "source": [
    "We'll test how a program flows using this example. Try to predict what the flow and output will be. <br> We'll use [Python Tutor](https://pythontutor.com/visualize.html#mode=edit) to follow the flow."
   ]
  },
  {
   "cell_type": "code",
   "execution_count": null,
   "id": "1ae0ffb3",
   "metadata": {},
   "outputs": [],
   "source": [
    "def a(n):\n",
    "    print('Function a')\n",
    "    return n * 2\n",
    "\n",
    "def b(n):\n",
    "    print('Function b')\n",
    "    return -n\n",
    "\n",
    "n = 5\n",
    "n = a(n)\n",
    "n = b(n)\n",
    "n += a(n)\n",
    "print(n)"
   ]
  }
 ],
 "metadata": {
  "kernelspec": {
   "display_name": "Python 3 (ipykernel)",
   "language": "python",
   "name": "python3"
  },
  "language_info": {
   "codemirror_mode": {
    "name": "ipython",
    "version": 3
   },
   "file_extension": ".py",
   "mimetype": "text/x-python",
   "name": "python",
   "nbconvert_exporter": "python",
   "pygments_lexer": "ipython3",
   "version": "3.9.7"
  }
 },
 "nbformat": 4,
 "nbformat_minor": 5
}
