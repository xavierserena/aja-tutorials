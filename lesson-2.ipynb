{
 "cells": [
  {
   "cell_type": "markdown",
   "id": "e08965fb",
   "metadata": {},
   "source": [
    "# Variables"
   ]
  },
  {
   "cell_type": "markdown",
   "id": "67c4f8d7",
   "metadata": {},
   "source": [
    "Variables will keep the last value given in its respective environment and return its value when called"
   ]
  },
  {
   "cell_type": "code",
   "execution_count": 6,
   "id": "baf89479",
   "metadata": {},
   "outputs": [
    {
     "name": "stdout",
     "output_type": "stream",
     "text": [
      "a + b 8\n",
      "a + b 10\n"
     ]
    }
   ],
   "source": [
    "# Despite running the same line, we get different results!\n",
    "a = 5\n",
    "b = 3\n",
    "print('a + b', a + b)\n",
    "a = 7\n",
    "print('a + b', a + b)"
   ]
  },
  {
   "cell_type": "code",
   "execution_count": 11,
   "id": "92a5219f",
   "metadata": {},
   "outputs": [
    {
     "name": "stdout",
     "output_type": "stream",
     "text": [
      "a 4\n"
     ]
    }
   ],
   "source": [
    "a = 2\n",
    "a = a + 2 # a += 2 (increase a by 2) \n",
    "print('a', a)"
   ]
  },
  {
   "cell_type": "code",
   "execution_count": 12,
   "id": "076211b4",
   "metadata": {},
   "outputs": [
    {
     "name": "stdout",
     "output_type": "stream",
     "text": [
      "a 16\n"
     ]
    }
   ],
   "source": [
    "a = 4\n",
    "a += a # increase by a (4)\n",
    "# a = 8\n",
    "a += a # increase by a (8)\n",
    "print('a', a)"
   ]
  },
  {
   "cell_type": "code",
   "execution_count": 13,
   "id": "e99a49a4",
   "metadata": {},
   "outputs": [
    {
     "name": "stdout",
     "output_type": "stream",
     "text": [
      "a + b 15\n"
     ]
    }
   ],
   "source": [
    "a = 5\n",
    "b = a # 5\n",
    "a += 5 # 10\n",
    "print('a + b', a + b)"
   ]
  },
  {
   "cell_type": "markdown",
   "id": "be480aac",
   "metadata": {},
   "source": [
    "# Functions"
   ]
  },
  {
   "cell_type": "markdown",
   "id": "5af469fa",
   "metadata": {},
   "source": [
    "Functions as a group of instructions help generalize an output with a given input, and reduce repetition"
   ]
  },
  {
   "cell_type": "code",
   "execution_count": 18,
   "id": "66056e3c",
   "metadata": {},
   "outputs": [
    {
     "data": {
      "text/plain": [
       "30.25"
      ]
     },
     "execution_count": 18,
     "metadata": {},
     "output_type": "execute_result"
    }
   ],
   "source": [
    "def split_bill(total):\n",
    "    tip = total * 0.1 # suggested tipping\n",
    "    total += tip # add tip to total\n",
    "    return total / 2 # split total\n",
    "split_bill(55)"
   ]
  },
  {
   "cell_type": "code",
   "execution_count": 21,
   "id": "e9ceeb8b",
   "metadata": {},
   "outputs": [
    {
     "name": "stdout",
     "output_type": "stream",
     "text": [
      "!dammahoM\n",
      "!ffeJ\n"
     ]
    }
   ],
   "source": [
    "def reverse(string):\n",
    "    return string[::-1]\n",
    "print(reverse('Mohammad!'))\n",
    "print(reverse('Jeff!'))"
   ]
  },
  {
   "cell_type": "code",
   "execution_count": 10,
   "id": "893784fc",
   "metadata": {},
   "outputs": [
    {
     "name": "stdout",
     "output_type": "stream",
     "text": [
      "HELLO\n",
      "hello\n"
     ]
    }
   ],
   "source": [
    "greeting = 'Hello'\n",
    "yell = greeting.upper() # upper is a built-in function for strings\n",
    "whisper = greeting.lower() # lower is also a built-in function\n",
    "print(yell) # print is also a function!\n",
    "print(whisper)"
   ]
  },
  {
   "cell_type": "markdown",
   "id": "ced73313",
   "metadata": {},
   "source": [
    "## Hello World!"
   ]
  },
  {
   "cell_type": "markdown",
   "id": "dab527c3",
   "metadata": {},
   "source": [
    "One of the most classic things to do when programming in a new language is to create a greeting. We do this by displaying text using Python's print method. We'll evolve this function to eventually greet many people."
   ]
  },
  {
   "cell_type": "code",
   "execution_count": 22,
   "id": "026dc6c5",
   "metadata": {},
   "outputs": [
    {
     "name": "stdout",
     "output_type": "stream",
     "text": [
      "Hello AjA!\n"
     ]
    }
   ],
   "source": [
    "print('Hello AjA!')"
   ]
  },
  {
   "cell_type": "markdown",
   "id": "0e96d75b",
   "metadata": {},
   "source": [
    "Variables are placeholders for all types of data/information, including text or strings. This way, we can be more flexible when coding and can simplify logic (aka, we can abstract)."
   ]
  },
  {
   "cell_type": "code",
   "execution_count": 3,
   "id": "2af90f3b",
   "metadata": {},
   "outputs": [
    {
     "name": "stdout",
     "output_type": "stream",
     "text": [
      "Hello Xavier!\n"
     ]
    }
   ],
   "source": [
    "name = 'Xavier'\n",
    "greeting = 'Hello' + ' ' + name + '!'\n",
    "print(greeting)"
   ]
  },
  {
   "cell_type": "markdown",
   "id": "04dd7a9a",
   "metadata": {},
   "source": [
    "What's another way that we've learned how to format a string with a variable?"
   ]
  },
  {
   "cell_type": "code",
   "execution_count": 34,
   "id": "2d5a2a7a",
   "metadata": {},
   "outputs": [
    {
     "name": "stdout",
     "output_type": "stream",
     "text": [
      "Hello Xavier!\n"
     ]
    }
   ],
   "source": [
    "name = 'Xavier'\n",
    "greeting = f'Hello {name}!'\n",
    "print(greeting)"
   ]
  },
  {
   "cell_type": "markdown",
   "id": "267ddeb0",
   "metadata": {},
   "source": [
    "Functions can help generalize and repeat this greeting while *varying* the input"
   ]
  },
  {
   "cell_type": "code",
   "execution_count": 47,
   "id": "3d8e5f2a",
   "metadata": {},
   "outputs": [],
   "source": [
    "def hello(name):\n",
    "    greeting = 'Hello ' + name + '!!!'\n",
    "    print(greeting)"
   ]
  },
  {
   "cell_type": "code",
   "execution_count": 48,
   "id": "6529ca16",
   "metadata": {},
   "outputs": [
    {
     "name": "stdout",
     "output_type": "stream",
     "text": [
      "Hello Amal!!!\n"
     ]
    }
   ],
   "source": [
    "# Test your function here\n",
    "hello('Amal')"
   ]
  },
  {
   "cell_type": "markdown",
   "id": "bce6ad39",
   "metadata": {},
   "source": [
    "Now, use what you've learned to greet your friends! Select three names and say hello three times (one per name): <br>\n",
    "*Hello Fardosa! <br>\n",
    "Hello Lorain! <br>\n",
    "Hello Jeff!*"
   ]
  },
  {
   "cell_type": "code",
   "execution_count": 49,
   "id": "6402335e",
   "metadata": {},
   "outputs": [
    {
     "name": "stdout",
     "output_type": "stream",
     "text": [
      "Hello Amal!!!\n",
      "Hello Mohammed!!!\n",
      "Hello Abisalid!!!\n"
     ]
    }
   ],
   "source": [
    "# Say hello to three friends!\n",
    "hello('Amal')\n",
    "hello('Mohammed')\n",
    "hello('Abisalid')"
   ]
  },
  {
   "cell_type": "code",
   "execution_count": 50,
   "id": "9c2d5db0",
   "metadata": {},
   "outputs": [
    {
     "name": "stdout",
     "output_type": "stream",
     "text": [
      "Hello Amal!!!\n",
      "Hello Mohammed!!!\n",
      "Hello Abisalid!!!\n"
     ]
    }
   ],
   "source": [
    "name = 'Amal'\n",
    "greeting = f'Hello {name}!!!'\n",
    "print(greeting)\n",
    "\n",
    "name = 'Mohammed'\n",
    "greeting = f'Hello {name}!!!'\n",
    "print(greeting)\n",
    "\n",
    "name = 'Abisalid'\n",
    "greeting = f'Hello {name}!!!'\n",
    "print(greeting)"
   ]
  },
  {
   "cell_type": "markdown",
   "id": "02041514",
   "metadata": {},
   "source": [
    "If you have extra time, try making two functions for greeting; one that yells and another that whispers the greeting. <br>\n",
    "yell('Xavier') -> HELLO XAVIER!! <br>\n",
    "whisper('Xavier') -> \\*hello xavier*"
   ]
  },
  {
   "cell_type": "code",
   "execution_count": 61,
   "id": "f0cd4a36",
   "metadata": {},
   "outputs": [
    {
     "name": "stdout",
     "output_type": "stream",
     "text": [
      "HELLO FARDOSA!!\n",
      "*hello fardosa*\n"
     ]
    }
   ],
   "source": [
    "def yell(name):\n",
    "    greeting = 'Hello ' + name + '!!'\n",
    "    g_upper = greeting.upper() \n",
    "    print(g_upper)\n",
    "    \n",
    "def whisper(name):\n",
    "    greeting = '*hello ' + name + '*'\n",
    "    g_lower = greeting.lower()\n",
    "    print(g_lower)\n",
    "    \n",
    "def yell_and_whisper(name):\n",
    "    yell(name)\n",
    "    whisper(name)\n",
    "    \n",
    "yell_and_whisper('Fardosa')"
   ]
  },
  {
   "cell_type": "markdown",
   "id": "08039468",
   "metadata": {},
   "source": [
    "We'll test how a program flows using this example. Try to predict what the flow and output will be. <br> We'll use [Python Tutor](https://pythontutor.com/visualize.html#mode=edit) to follow the flow."
   ]
  },
  {
   "cell_type": "code",
   "execution_count": null,
   "id": "1ae0ffb3",
   "metadata": {},
   "outputs": [],
   "source": [
    "def a(n):\n",
    "    print('Function a')\n",
    "    return n * 2\n",
    "\n",
    "def b(n):\n",
    "    print('Function b')\n",
    "    return -n\n",
    "\n",
    "n = 5\n",
    "n = a(n)\n",
    "n = b(n)\n",
    "n += a(n)\n",
    "print(n)"
   ]
  }
 ],
 "metadata": {
  "kernelspec": {
   "display_name": "Python 3 (ipykernel)",
   "language": "python",
   "name": "python3"
  },
  "language_info": {
   "codemirror_mode": {
    "name": "ipython",
    "version": 3
   },
   "file_extension": ".py",
   "mimetype": "text/x-python",
   "name": "python",
   "nbconvert_exporter": "python",
   "pygments_lexer": "ipython3",
   "version": "3.9.7"
  }
 },
 "nbformat": 4,
 "nbformat_minor": 5
}
