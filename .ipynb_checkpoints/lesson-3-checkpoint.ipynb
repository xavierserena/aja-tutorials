{
 "cells": [
  {
   "cell_type": "code",
   "execution_count": 2,
   "id": "6763a23e",
   "metadata": {},
   "outputs": [],
   "source": [
    "def get_number_sign(number):\n",
    "    if number < 0:\n",
    "        return 'negative'\n",
    "    elif number > 0:\n",
    "        return 'positive'\n",
    "    else:\n",
    "        return 'neutral' # notice the else doesn't use number, because it is the last case if everything above is false"
   ]
  },
  {
   "cell_type": "code",
   "execution_count": 4,
   "id": "747d8355",
   "metadata": {},
   "outputs": [
    {
     "data": {
      "text/plain": [
       "'negative'"
      ]
     },
     "execution_count": 4,
     "metadata": {},
     "output_type": "execute_result"
    }
   ],
   "source": [
    "get_number_sign(-1)"
   ]
  },
  {
   "cell_type": "code",
   "execution_count": 12,
   "id": "17e52472",
   "metadata": {},
   "outputs": [],
   "source": [
    "# Testing of if logic, what would be the ouput per cell?\n",
    "def xk(c, d):\n",
    "    if c == 4:\n",
    "        return 6\n",
    "    elif d >= 4:\n",
    "        return 1 + c\n",
    "    else:\n",
    "        return 'hello'"
   ]
  },
  {
   "cell_type": "code",
   "execution_count": 8,
   "id": "87989ae9",
   "metadata": {},
   "outputs": [
    {
     "data": {
      "text/plain": [
       "11"
      ]
     },
     "execution_count": 8,
     "metadata": {},
     "output_type": "execute_result"
    }
   ],
   "source": [
    "xk(10, 10)"
   ]
  },
  {
   "cell_type": "code",
   "execution_count": 9,
   "id": "631b5834",
   "metadata": {},
   "outputs": [
    {
     "data": {
      "text/plain": [
       "6"
      ]
     },
     "execution_count": 9,
     "metadata": {},
     "output_type": "execute_result"
    }
   ],
   "source": [
    "xk(4, 5)"
   ]
  },
  {
   "cell_type": "code",
   "execution_count": 13,
   "id": "65721080",
   "metadata": {},
   "outputs": [
    {
     "data": {
      "text/plain": [
       "'hello'"
      ]
     },
     "execution_count": 13,
     "metadata": {},
     "output_type": "execute_result"
    }
   ],
   "source": [
    "xk(3, 0)"
   ]
  },
  {
   "cell_type": "code",
   "execution_count": null,
   "id": "b5e27aad",
   "metadata": {},
   "outputs": [],
   "source": [
    "def what_to_wear(temperature):\n",
    "    # fill in with your recommended thresholds and clothing\n",
    "    if temperature < __:\n",
    "        return ''\n",
    "    elif temperature < __:\n",
    "        return ''\n",
    "    else:\n",
    "        return ''\n",
    "what_to_wear(80)"
   ]
  },
  {
   "cell_type": "code",
   "execution_count": 11,
   "id": "ed7bd2db",
   "metadata": {},
   "outputs": [
    {
     "data": {
      "text/plain": [
       "0"
      ]
     },
     "execution_count": 11,
     "metadata": {},
     "output_type": "execute_result"
    }
   ],
   "source": [
    "# How do we determine if a number is even? 2, 4, 6, ... they're divisible by 2. \n",
    "# We can use % modulus to get the remainder of a division; a remainder of zero means it's divisible!\n",
    "306 % 2"
   ]
  },
  {
   "cell_type": "code",
   "execution_count": 12,
   "id": "103d8466",
   "metadata": {},
   "outputs": [
    {
     "data": {
      "text/plain": [
       "1"
      ]
     },
     "execution_count": 12,
     "metadata": {},
     "output_type": "execute_result"
    }
   ],
   "source": [
    "305 % 2"
   ]
  },
  {
   "cell_type": "code",
   "execution_count": 18,
   "id": "0c67edfa",
   "metadata": {},
   "outputs": [
    {
     "name": "stdout",
     "output_type": "stream",
     "text": [
      "even\n"
     ]
    }
   ],
   "source": [
    "# write a function that prints 'odd' for odd numbers and 'even' for even numbers\n",
    "def is_even(n):\n",
    "    if n % 2 == 0:\n",
    "        print('even')\n",
    "    else:\n",
    "        print('odd')\n",
    "    \n",
    "n = 9999990\n",
    "is_even(n)"
   ]
  },
  {
   "cell_type": "code",
   "execution_count": 2,
   "id": "4026d5ac",
   "metadata": {},
   "outputs": [
    {
     "name": "stdout",
     "output_type": "stream",
     "text": [
      "Yes\n"
     ]
    }
   ],
   "source": [
    "balance = 5 # dollars\n",
    "taco = 2\n",
    "fries = 1\n",
    "cheeseburger = 5.50\n",
    "cheeseburger_no_cheese = 5\n",
    "venti_caramel_frap = 12\n",
    "\n",
    "def can_i_get_uh(item_price):\n",
    "    '''\n",
    "    Print something affirmative if we can afford it (based on balance)\n",
    "    Else print something negative\n",
    "    Ex.\n",
    "    can_i_get_uh(cheeseburger) -> Nah\n",
    "    can_i_get_uh(cheeseburger_no_cheese) -> Yes\n",
    "    '''\n",
    "    # YOUR CODE HERE\n",
    "can_i_get_uh(cheeseburger_no_cheese)"
   ]
  },
  {
   "cell_type": "markdown",
   "id": "27528bd2",
   "metadata": {},
   "source": [
    "Previously we only asked one question, but we may want to order more things. How do we update balance? <br>\n",
    "If we start with a balance of $5 and we get a taco, we're left with 3. So trying to order a taco again should not be possible. <br>\n",
    "We need to somehow update our variable `balance` to reflect this. <br>\n",
    "*Hint:* `balance -= # some amount`"
   ]
  },
  {
   "cell_type": "code",
   "execution_count": null,
   "id": "a645343f",
   "metadata": {},
   "outputs": [],
   "source": []
  }
 ],
 "metadata": {
  "kernelspec": {
   "display_name": "Python 3 (ipykernel)",
   "language": "python",
   "name": "python3"
  },
  "language_info": {
   "codemirror_mode": {
    "name": "ipython",
    "version": 3
   },
   "file_extension": ".py",
   "mimetype": "text/x-python",
   "name": "python",
   "nbconvert_exporter": "python",
   "pygments_lexer": "ipython3",
   "version": "3.9.7"
  }
 },
 "nbformat": 4,
 "nbformat_minor": 5
}
