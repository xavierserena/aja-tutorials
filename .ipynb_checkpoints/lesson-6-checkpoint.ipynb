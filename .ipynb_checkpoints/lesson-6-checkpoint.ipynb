{
 "cells": [
  {
   "cell_type": "code",
   "execution_count": 2,
   "id": "d2843f88",
   "metadata": {},
   "outputs": [],
   "source": [
    "class Dog:\n",
    "    \n",
    "    def __init__(self, name, breed, age):\n",
    "        self.name = name\n",
    "        self.breed = breed\n",
    "        self.age = age\n",
    "        \n",
    "    def speak(self):\n",
    "        print('Woof!')\n",
    "        "
   ]
  },
  {
   "cell_type": "code",
   "execution_count": 3,
   "id": "7638f5d0",
   "metadata": {},
   "outputs": [
    {
     "name": "stdout",
     "output_type": "stream",
     "text": [
      "Woof!\n"
     ]
    }
   ],
   "source": [
    "luna = Dog('Luna', 'Wolfhound', 3)\n",
    "luna.name # 'Luna'\n",
    "luna.breed # 'Wolfhound'\n",
    "luna.age # 3\n",
    "luna.speak()"
   ]
  },
  {
   "cell_type": "code",
   "execution_count": 6,
   "id": "afef5a8f",
   "metadata": {},
   "outputs": [
    {
     "name": "stdout",
     "output_type": "stream",
     "text": [
      "Woof!\n"
     ]
    }
   ],
   "source": [
    "# Now you define your own favorite dog\n",
    "sirius = Dog('Sirius', 'Unknown', 6)\n",
    "sirius.name\n",
    "sirius.breed\n",
    "sirius.speak()"
   ]
  },
  {
   "cell_type": "code",
   "execution_count": 14,
   "id": "f6ca3380",
   "metadata": {},
   "outputs": [],
   "source": [
    "# How would we represent a cat?\n",
    "class Cat:\n",
    "    \n",
    "    def __init__(self, name, breed, age, sound='Meow!'):\n",
    "        self.name = name\n",
    "        self.breed = breed\n",
    "        self.age = age\n",
    "        self.sound = sound\n",
    "        \n",
    "    def speak(self):\n",
    "        print(self.sound) # self.sound is an instance variable"
   ]
  },
  {
   "cell_type": "code",
   "execution_count": 15,
   "id": "bbdb7f0f",
   "metadata": {},
   "outputs": [
    {
     "name": "stdout",
     "output_type": "stream",
     "text": [
      "Meow!\n"
     ]
    }
   ],
   "source": [
    "ivy = Cat('Ivy', 'Siamese', 3)\n",
    "ivy.name # 'Ivy'\n",
    "ivy.breed # 'Siamese'\n",
    "ivy.age # 3\n",
    "ivy.speak()"
   ]
  },
  {
   "cell_type": "code",
   "execution_count": 17,
   "id": "62a59422",
   "metadata": {},
   "outputs": [
    {
     "name": "stdout",
     "output_type": "stream",
     "text": [
      "Roar!!!!!!!\n"
     ]
    }
   ],
   "source": [
    "momo = Cat('Momo', 'Unkown', 0, 'Roar!!!!!!!')\n",
    "momo.speak()"
   ]
  },
  {
   "cell_type": "markdown",
   "id": "18994b73",
   "metadata": {},
   "source": [
    "What about hamsters, parrots... all types of pets, and it's redundant to repeat the same initializer for all of them. We can create a more general class: Pet"
   ]
  },
  {
   "cell_type": "code",
   "execution_count": 20,
   "id": "9113c251",
   "metadata": {},
   "outputs": [],
   "source": [
    "class Pet: # Parent class\n",
    "    \n",
    "    def __init__(self, name, breed, age, owner=None, noise=''):\n",
    "        self.name = name\n",
    "        self.breed = breed\n",
    "        self.age = age\n",
    "        self.owner = owner\n",
    "        self.noise = noise\n",
    "        \n",
    "    def adoptedBy(self, owner):\n",
    "        self.owner = owner\n",
    "        \n",
    "    def speak(self):\n",
    "        print(self.noise)"
   ]
  },
  {
   "cell_type": "code",
   "execution_count": 21,
   "id": "e9e54593",
   "metadata": {},
   "outputs": [
    {
     "name": "stdout",
     "output_type": "stream",
     "text": [
      "Squeak!\n"
     ]
    }
   ],
   "source": [
    "# Hamster is a child of Pet\n",
    "class Hamster(Pet): # we are declaring Hamster to be a type of Pet thus inheriting some things\n",
    "    \n",
    "    def __init__(self, name, breed, age, owner=None, noise='Squeak!'):\n",
    "        Pet.__init__(self, name, breed, age, owner, noise)\n",
    "\n",
    "louis = Hamster('Louis', 'Syrian', 1)\n",
    "louis.name # 'Louis'\n",
    "louis.breed # 'Syrian'\n",
    "louis.speak()"
   ]
  },
  {
   "cell_type": "code",
   "execution_count": 24,
   "id": "1827138f",
   "metadata": {},
   "outputs": [
    {
     "name": "stdout",
     "output_type": "stream",
     "text": [
      "None\n"
     ]
    }
   ],
   "source": [
    "print(louis.owner) # no one to take care of Louis :("
   ]
  },
  {
   "cell_type": "code",
   "execution_count": 32,
   "id": "af4dac26",
   "metadata": {},
   "outputs": [
    {
     "name": "stdout",
     "output_type": "stream",
     "text": [
      "Xavier\n"
     ]
    }
   ],
   "source": [
    "# I will adopt Louis\n",
    "louis.adoptedBy('Xavier')\n",
    "print(louis.owner)"
   ]
  },
  {
   "cell_type": "code",
   "execution_count": 25,
   "id": "1ba5723a",
   "metadata": {},
   "outputs": [
    {
     "name": "stdout",
     "output_type": "stream",
     "text": [
      "Woof!\n"
     ]
    }
   ],
   "source": [
    "class Dog(Pet):\n",
    "    \n",
    "    def __init__(self, name, breed, age, owner=None, noise='Woof!'):\n",
    "        Pet.__init__(self, name, breed, age, owner, noise)\n",
    "\n",
    "luna = Dog('Luna', 'Wolfhound', 3)\n",
    "luna.name # 'Luna'\n",
    "luna.breed # 'Wolfhound'\n",
    "luna.age # 3\n",
    "luna.speak()"
   ]
  },
  {
   "cell_type": "code",
   "execution_count": 24,
   "id": "64eb3634",
   "metadata": {},
   "outputs": [],
   "source": [
    "class Cat(Pet):\n",
    "    \n",
    "    def __init__(self, name, breed, age, owner=None, noise='Meow!'):\n",
    "        Pet.__init__(self, name, breed, age, owner, noise)"
   ]
  },
  {
   "cell_type": "code",
   "execution_count": 82,
   "id": "a27269e0",
   "metadata": {},
   "outputs": [],
   "source": [
    "# But how do I know which are my pets? How do we known which pets I have?\n",
    "class Person:\n",
    "    \n",
    "    def __init__(self, name, age, pets=[]):\n",
    "        self.name = name\n",
    "        self.age = age\n",
    "        self.pets = pets\n",
    "        \n",
    "    def adopt(self, pet):\n",
    "        if pet not in self.pets:\n",
    "            self.pets.append(pet) # save pets in person self.pets is a list\n",
    "            pet.owner = self      # save owner with pet, pet.owner"
   ]
  },
  {
   "cell_type": "code",
   "execution_count": 86,
   "id": "7bca9f78",
   "metadata": {},
   "outputs": [],
   "source": [
    "# Make a person object\n",
    "xavier = Person('Xavier', 21)"
   ]
  },
  {
   "cell_type": "code",
   "execution_count": 87,
   "id": "3c282268",
   "metadata": {},
   "outputs": [],
   "source": [
    "# Adopt pets\n",
    "xavier.adopt(louis)\n",
    "xavier.adopt(luna)\n",
    "xavier.adopt(sirius)"
   ]
  },
  {
   "cell_type": "code",
   "execution_count": 88,
   "id": "6d7d1df8",
   "metadata": {},
   "outputs": [
    {
     "data": {
      "text/plain": [
       "[<__main__.Hamster at 0x1c7b8125670>,\n",
       " <__main__.Dog at 0x1c7b8136850>,\n",
       " <__main__.Dog at 0x1c7b8125490>]"
      ]
     },
     "execution_count": 88,
     "metadata": {},
     "output_type": "execute_result"
    }
   ],
   "source": [
    "xavier.pets"
   ]
  },
  {
   "cell_type": "code",
   "execution_count": 80,
   "id": "9d543fa0",
   "metadata": {},
   "outputs": [
    {
     "name": "stdout",
     "output_type": "stream",
     "text": [
      "[<__main__.Cat object at 0x000001C7B8125640>]\n"
     ]
    }
   ],
   "source": [
    "fardosa = Person('Fardosa', 27)\n",
    "fardosa.adopt(momo)"
   ]
  },
  {
   "cell_type": "code",
   "execution_count": 84,
   "id": "83c7802d",
   "metadata": {},
   "outputs": [
    {
     "data": {
      "text/plain": [
       "[<__main__.Cat at 0x1c7b8125640>]"
      ]
     },
     "execution_count": 84,
     "metadata": {},
     "output_type": "execute_result"
    }
   ],
   "source": [
    "fardosa.pets"
   ]
  },
  {
   "cell_type": "code",
   "execution_count": 85,
   "id": "9178a439",
   "metadata": {},
   "outputs": [
    {
     "data": {
      "text/plain": [
       "False"
      ]
     },
     "execution_count": 85,
     "metadata": {},
     "output_type": "execute_result"
    }
   ],
   "source": [
    "xavier.pets == fardosa.pets"
   ]
  }
 ],
 "metadata": {
  "kernelspec": {
   "display_name": "Python 3 (ipykernel)",
   "language": "python",
   "name": "python3"
  },
  "language_info": {
   "codemirror_mode": {
    "name": "ipython",
    "version": 3
   },
   "file_extension": ".py",
   "mimetype": "text/x-python",
   "name": "python",
   "nbconvert_exporter": "python",
   "pygments_lexer": "ipython3",
   "version": "3.9.7"
  }
 },
 "nbformat": 4,
 "nbformat_minor": 5
}
