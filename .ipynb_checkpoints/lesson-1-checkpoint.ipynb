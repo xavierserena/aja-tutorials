{
 "cells": [
  {
   "cell_type": "markdown",
   "id": "8746ec22",
   "metadata": {},
   "source": [
    "# Welcome to our first lesson on Python!\n",
    "To run a 'cell':\n",
    "- Click on the cell\n",
    "- Either use the 'Run' button or press ⌃↩ (Ctrl+Return)"
   ]
  },
  {
   "cell_type": "markdown",
   "id": "94156fe5",
   "metadata": {},
   "source": [
    "## Numbers"
   ]
  },
  {
   "cell_type": "markdown",
   "id": "049ed069",
   "metadata": {},
   "source": [
    "Remember the format for a variable is: <br>\n",
    "**variable_name** = *value* <br>\n",
    "\n",
    "Doing otherwise results in an error"
   ]
  },
  {
   "cell_type": "code",
   "execution_count": 11,
   "id": "11a459f5",
   "metadata": {},
   "outputs": [
    {
     "ename": "SyntaxError",
     "evalue": "cannot assign to literal (2346041950.py, line 1)",
     "output_type": "error",
     "traceback": [
      "\u001b[0;36m  File \u001b[0;32m\"/var/folders/9y/0w59z2r14h164zx8dmhctwh40000gn/T/ipykernel_25231/2346041950.py\"\u001b[0;36m, line \u001b[0;32m1\u001b[0m\n\u001b[0;31m    5 = five\u001b[0m\n\u001b[0m    ^\u001b[0m\n\u001b[0;31mSyntaxError\u001b[0m\u001b[0;31m:\u001b[0m cannot assign to literal\n"
     ]
    }
   ],
   "source": [
    "5 = five"
   ]
  },
  {
   "cell_type": "markdown",
   "id": "a6082c9f",
   "metadata": {},
   "source": [
    "If you want to make a comment, use the symbol # *everything after in that line will be a comment*"
   ]
  },
  {
   "cell_type": "code",
   "execution_count": 7,
   "id": "80b78c45",
   "metadata": {},
   "outputs": [
    {
     "data": {
      "text/plain": [
       "86400"
      ]
     },
     "execution_count": 7,
     "metadata": {},
     "output_type": "execute_result"
    }
   ],
   "source": [
    "# Numbers\n",
    "year = 2021 # Whole numbers (integers)\n",
    "price = 19.99 # Decimals (floats)\n",
    "pi_approx = 3.141592653589 # They can have many decimals\n",
    "\n",
    "seconds_in_a_minute = 60\n",
    "minutes_in_an_hour = 60\n",
    "hours_in_a_day = 24\n",
    "seconds_in_a_day = seconds_in_a_minute * minutes_in_an_hour * hours_in_a_day # We can do a lot of arithmetic with numbers\n",
    "seconds_in_a_day"
   ]
  },
  {
   "cell_type": "markdown",
   "id": "f0f0b548",
   "metadata": {},
   "source": [
    "## Strings - Words, sentences and emojis"
   ]
  },
  {
   "cell_type": "markdown",
   "id": "e0f45bf7",
   "metadata": {},
   "source": [
    "Same format as above, except the word(s) for the value must be wrapped in apostrophes."
   ]
  },
  {
   "cell_type": "code",
   "execution_count": 21,
   "id": "a04a7976",
   "metadata": {},
   "outputs": [],
   "source": [
    "# Strings (words, characters, single or multiple)\n",
    "name = 'Xavier' # string are created by using matching apostrophes which can be '' or \"\" or ''''''\n",
    "address = \"4089 Fairmount Ave\"\n",
    "secret_password = 't4c0s'\n",
    "favorite_emoji = '🌮'\n",
    "long_string = '''strings in python are a series of characters (of any kind) and can be \n",
    "really, really, really, really, really long. You could store a book in a string if you want though\n",
    "you'd likely use a lot of space!'''"
   ]
  },
  {
   "cell_type": "markdown",
   "id": "408aa321",
   "metadata": {},
   "source": [
    "To combine strings, called **concatenation**, we can *'add'* or *format* them"
   ]
  },
  {
   "cell_type": "code",
   "execution_count": 12,
   "id": "e2c1c60a",
   "metadata": {},
   "outputs": [
    {
     "data": {
      "text/plain": [
       "'xserena@berkeley.edu'"
      ]
     },
     "execution_count": 12,
     "metadata": {},
     "output_type": "execute_result"
    }
   ],
   "source": [
    "username = 'xserena'\n",
    "domain = 'berkeley.edu'\n",
    "email = username + '@' + domain # can join (aka concatenate strings)\n",
    "email # notice that when concatenating, no spaces were added"
   ]
  },
  {
   "cell_type": "code",
   "execution_count": 22,
   "id": "d4fbefb6",
   "metadata": {},
   "outputs": [
    {
     "name": "stdout",
     "output_type": "stream",
     "text": [
      "xserena@berkeley.edu\n"
     ]
    }
   ],
   "source": [
    "# we can also format a string like this. whichever makes sense to you f'string{variable}'\n",
    "email = f'{username}@{domain}'\n",
    "print(email)"
   ]
  },
  {
   "cell_type": "code",
   "execution_count": 25,
   "id": "42940be7",
   "metadata": {},
   "outputs": [
    {
     "data": {
      "text/plain": [
       "'Monkey D. Luffy'"
      ]
     },
     "execution_count": 25,
     "metadata": {},
     "output_type": "execute_result"
    }
   ],
   "source": [
    "first_name = 'Monkey'\n",
    "last_name = 'Luffy'\n",
    "first_name + ' D. ' + last_name # we can join them with a space (or anything) in between"
   ]
  },
  {
   "cell_type": "code",
   "execution_count": 26,
   "id": "f36e54a3",
   "metadata": {},
   "outputs": [
    {
     "name": "stdout",
     "output_type": "stream",
     "text": [
      "Monkey D. Luffy\n"
     ]
    }
   ],
   "source": [
    "# we can also print different variables; the comma will add a space\n",
    "print(first_name, 'D.', last_name)"
   ]
  },
  {
   "cell_type": "markdown",
   "id": "42d21bff",
   "metadata": {},
   "source": [
    "### Common errors\n",
    "What happens when we join a number and a string?"
   ]
  },
  {
   "cell_type": "code",
   "execution_count": 16,
   "id": "aefe1079",
   "metadata": {},
   "outputs": [
    {
     "ename": "TypeError",
     "evalue": "unsupported operand type(s) for +: 'int' and 'str'",
     "output_type": "error",
     "traceback": [
      "\u001b[0;31m---------------------------------------------------------------------------\u001b[0m",
      "\u001b[0;31mTypeError\u001b[0m                                 Traceback (most recent call last)",
      "\u001b[0;32m/var/folders/9y/0w59z2r14h164zx8dmhctwh40000gn/T/ipykernel_25231/350056683.py\u001b[0m in \u001b[0;36m<module>\u001b[0;34m\u001b[0m\n\u001b[0;32m----> 1\u001b[0;31m \u001b[0;36m22\u001b[0m \u001b[0;34m+\u001b[0m \u001b[0;34m'years'\u001b[0m\u001b[0;34m\u001b[0m\u001b[0;34m\u001b[0m\u001b[0m\n\u001b[0m",
      "\u001b[0;31mTypeError\u001b[0m: unsupported operand type(s) for +: 'int' and 'str'"
     ]
    }
   ],
   "source": [
    "22 + 'years'"
   ]
  },
  {
   "cell_type": "code",
   "execution_count": 19,
   "id": "3152fcde",
   "metadata": {},
   "outputs": [
    {
     "data": {
      "text/plain": [
       "'22 years'"
      ]
     },
     "execution_count": 19,
     "metadata": {},
     "output_type": "execute_result"
    }
   ],
   "source": [
    "str(22) + ' years'"
   ]
  },
  {
   "cell_type": "markdown",
   "id": "8ed9b952",
   "metadata": {},
   "source": [
    "What if we need to use an apostrophe?"
   ]
  },
  {
   "cell_type": "code",
   "execution_count": 17,
   "id": "43afa625",
   "metadata": {},
   "outputs": [
    {
     "ename": "SyntaxError",
     "evalue": "invalid syntax (4135213560.py, line 1)",
     "output_type": "error",
     "traceback": [
      "\u001b[0;36m  File \u001b[0;32m\"/var/folders/9y/0w59z2r14h164zx8dmhctwh40000gn/T/ipykernel_25231/4135213560.py\"\u001b[0;36m, line \u001b[0;32m1\u001b[0m\n\u001b[0;31m    'Xavier's pencil\u001b[0m\n\u001b[0m            ^\u001b[0m\n\u001b[0;31mSyntaxError\u001b[0m\u001b[0;31m:\u001b[0m invalid syntax\n"
     ]
    }
   ],
   "source": [
    "'Xavier's pencil"
   ]
  },
  {
   "cell_type": "code",
   "execution_count": 20,
   "id": "564948f7",
   "metadata": {},
   "outputs": [
    {
     "data": {
      "text/plain": [
       "\"Xavier's pencil\""
      ]
     },
     "execution_count": 20,
     "metadata": {},
     "output_type": "execute_result"
    }
   ],
   "source": [
    "\"Xavier's pencil\""
   ]
  },
  {
   "cell_type": "markdown",
   "id": "78acd6ed",
   "metadata": {},
   "source": [
    "Fill these with the introduction you want, then run the cell to print your introduction!"
   ]
  },
  {
   "cell_type": "code",
   "execution_count": 32,
   "id": "8624f124",
   "metadata": {},
   "outputs": [
    {
     "name": "stdout",
     "output_type": "stream",
     "text": [
      "Hi! I'm Xavier, I study at University of California, Berkeley 🐻 and work as a Software Engineer 🧑‍💻. I enjoy Surfing 🏄‍♂️, my favorite movie is Arrival 👾 and favorite food is Chilaquiles\n"
     ]
    }
   ],
   "source": [
    "# Fill these to practice!\n",
    "school = 'University of California, Berkeley 🐻'\n",
    "age = '22'\n",
    "work = 'Software Engineer 🧑‍💻'\n",
    "hobby = 'Surfing 🏄‍♂️'\n",
    "favorite_movie = 'Arrival 👾' # can change to anime\n",
    "favorite_food = 'Chilaquiles'\n",
    "introduction = f\"Hi! I'm {name}, I study at {university} and work as a {work}. I enjoy {hobby}, my favorite movie is {favorite_movie} and favorite food is {favorite_food}\"\n",
    "print(introduction)"
   ]
  },
  {
   "cell_type": "code",
   "execution_count": null,
   "id": "ed8bce43",
   "metadata": {},
   "outputs": [],
   "source": []
  }
 ],
 "metadata": {
  "kernelspec": {
   "display_name": "Python 3 (ipykernel)",
   "language": "python",
   "name": "python3"
  },
  "language_info": {
   "codemirror_mode": {
    "name": "ipython",
    "version": 3
   },
   "file_extension": ".py",
   "mimetype": "text/x-python",
   "name": "python",
   "nbconvert_exporter": "python",
   "pygments_lexer": "ipython3",
   "version": "3.9.7"
  }
 },
 "nbformat": 4,
 "nbformat_minor": 5
}
