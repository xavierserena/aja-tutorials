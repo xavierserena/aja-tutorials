{
 "cells": [
  {
   "cell_type": "markdown",
   "id": "541ea2b5",
   "metadata": {},
   "source": [
    "# Functions Practice\n",
    "In this small section we'll practice writing some functions to refamiliarize with them before using them with if statements"
   ]
  },
  {
   "cell_type": "code",
   "execution_count": 2,
   "id": "4e667e25",
   "metadata": {},
   "outputs": [
    {
     "data": {
      "text/plain": [
       "20"
      ]
     },
     "execution_count": 2,
     "metadata": {},
     "output_type": "execute_result"
    }
   ],
   "source": [
    "# Here's an example of a function that multiples two numbers\n",
    "def mul(a, b):\n",
    "    return a * b\n",
    "mul(5, 4) # this should be 20"
   ]
  },
  {
   "cell_type": "code",
   "execution_count": 5,
   "id": "d9805620",
   "metadata": {},
   "outputs": [
    {
     "ename": "SyntaxError",
     "evalue": "invalid syntax (Temp/ipykernel_25056/2175424335.py, line 4)",
     "output_type": "error",
     "traceback": [
      "\u001b[1;36m  File \u001b[1;32m\"C:\\Users\\xavie\\AppData\\Local\\Temp/ipykernel_25056/2175424335.py\"\u001b[1;36m, line \u001b[1;32m4\u001b[0m\n\u001b[1;33m    return a _ b # replace _ with the appropriate symbol\u001b[0m\n\u001b[1;37m             ^\u001b[0m\n\u001b[1;31mSyntaxError\u001b[0m\u001b[1;31m:\u001b[0m invalid syntax\n"
     ]
    }
   ],
   "source": [
    "# Write a function that takes in two numbers and returns their sum\n",
    "# Hint: + is used for adding\n",
    "def add(a, b):\n",
    "    # place the appropriate expression\n",
    "add(10, 2) # this should be 12"
   ]
  },
  {
   "cell_type": "code",
   "execution_count": 17,
   "id": "ea21d24d",
   "metadata": {},
   "outputs": [
    {
     "ename": "NameError",
     "evalue": "name 'sub' is not defined",
     "output_type": "error",
     "traceback": [
      "\u001b[1;31m---------------------------------------------------------------------------\u001b[0m",
      "\u001b[1;31mNameError\u001b[0m                                 Traceback (most recent call last)",
      "\u001b[1;32m~\\AppData\\Local\\Temp/ipykernel_25056/1337749378.py\u001b[0m in \u001b[0;36m<module>\u001b[1;34m\u001b[0m\n\u001b[0;32m      2\u001b[0m \u001b[1;31m# Remember the format for a function and call it sub\u001b[0m\u001b[1;33m\u001b[0m\u001b[1;33m\u001b[0m\u001b[0m\n\u001b[0;32m      3\u001b[0m \u001b[1;33m\u001b[0m\u001b[0m\n\u001b[1;32m----> 4\u001b[1;33m \u001b[0msub\u001b[0m\u001b[1;33m(\u001b[0m\u001b[1;36m12\u001b[0m\u001b[1;33m,\u001b[0m \u001b[1;36m2\u001b[0m\u001b[1;33m)\u001b[0m \u001b[1;31m# should be 10\u001b[0m\u001b[1;33m\u001b[0m\u001b[1;33m\u001b[0m\u001b[0m\n\u001b[0m",
      "\u001b[1;31mNameError\u001b[0m: name 'sub' is not defined"
     ]
    }
   ],
   "source": [
    "# Define a function sub that subtracts b from a (a - b)\n",
    "# Remember the format for a function and call it sub\n",
    "\n",
    "sub(12, 2) # should be 10"
   ]
  },
  {
   "cell_type": "markdown",
   "id": "7daca02d",
   "metadata": {},
   "source": [
    "# If statements\n",
    "## Examples"
   ]
  },
  {
   "cell_type": "code",
   "execution_count": 18,
   "id": "6e65b364",
   "metadata": {},
   "outputs": [
    {
     "name": "stdout",
     "output_type": "stream",
     "text": [
      "hello\n"
     ]
    }
   ],
   "source": [
    "if True:\n",
    "    print('hello')"
   ]
  },
  {
   "cell_type": "code",
   "execution_count": 19,
   "id": "10758d77",
   "metadata": {},
   "outputs": [
    {
     "name": "stdout",
     "output_type": "stream",
     "text": [
      "2\n"
     ]
    }
   ],
   "source": [
    "if False:\n",
    "    print(1)\n",
    "else:\n",
    "    print(2)"
   ]
  },
  {
   "cell_type": "code",
   "execution_count": 22,
   "id": "f08868c7",
   "metadata": {},
   "outputs": [
    {
     "name": "stdout",
     "output_type": "stream",
     "text": [
      "more than 10\n"
     ]
    }
   ],
   "source": [
    "a = 10\n",
    "if a < 10:\n",
    "    print('less than 10')\n",
    "else:\n",
    "    print('more than 10')"
   ]
  },
  {
   "cell_type": "code",
   "execution_count": null,
   "id": "1bbeb007",
   "metadata": {},
   "outputs": [],
   "source": [
    "temp = 10\n",
    "if temp < 40:\n",
    "    print('it is freezing 🥶')\n",
    "elif temp < 80:\n",
    "    print('it is nice')\n",
    "else:\n",
    "    print('it is too hot 🥵')"
   ]
  },
  {
   "cell_type": "markdown",
   "id": "ac470405",
   "metadata": {},
   "source": [
    "## Even or odd with modulus %"
   ]
  },
  {
   "cell_type": "markdown",
   "id": "313198a1",
   "metadata": {},
   "source": [
    "How do we determine if a number is even? 2, 4, 6, ... they're divisible by 2. <br>\n",
    "We can use % modulus to get the remainder of a division; a remainder of zero means it's divisible!"
   ]
  },
  {
   "cell_type": "code",
   "execution_count": 6,
   "id": "e943c94a",
   "metadata": {},
   "outputs": [
    {
     "data": {
      "text/plain": [
       "0"
      ]
     },
     "execution_count": 6,
     "metadata": {},
     "output_type": "execute_result"
    }
   ],
   "source": [
    "10 % 2 # 10 is fully divisible by 2 (even)"
   ]
  },
  {
   "cell_type": "code",
   "execution_count": 10,
   "id": "876e53f7",
   "metadata": {},
   "outputs": [
    {
     "data": {
      "text/plain": [
       "1"
      ]
     },
     "execution_count": 10,
     "metadata": {},
     "output_type": "execute_result"
    }
   ],
   "source": [
    "11 % 2 # 11 isn't fully divisible by 2, has remainder 1 (odd)"
   ]
  },
  {
   "cell_type": "code",
   "execution_count": 11,
   "id": "73594a40",
   "metadata": {},
   "outputs": [
    {
     "data": {
      "text/plain": [
       "0"
      ]
     },
     "execution_count": 11,
     "metadata": {},
     "output_type": "execute_result"
    }
   ],
   "source": [
    "12 % 2 # 12 is fully divisible"
   ]
  },
  {
   "cell_type": "code",
   "execution_count": 13,
   "id": "d972cac5",
   "metadata": {},
   "outputs": [
    {
     "name": "stdout",
     "output_type": "stream",
     "text": [
      "10 even\n"
     ]
    }
   ],
   "source": [
    "def print_if_even(x):\n",
    "    if x % 2 == 0:\n",
    "        print(x, 'even')\n",
    "print_if_even(10)\n",
    "print_if_even(5)"
   ]
  },
  {
   "cell_type": "code",
   "execution_count": 16,
   "id": "ac169e1a",
   "metadata": {},
   "outputs": [
    {
     "ename": "SyntaxError",
     "evalue": "invalid syntax (Temp/ipykernel_25056/758128014.py, line 2)",
     "output_type": "error",
     "traceback": [
      "\u001b[1;36m  File \u001b[1;32m\"C:\\Users\\xavie\\AppData\\Local\\Temp/ipykernel_25056/758128014.py\"\u001b[1;36m, line \u001b[1;32m2\u001b[0m\n\u001b[1;33m    if :\u001b[0m\n\u001b[1;37m       ^\u001b[0m\n\u001b[1;31mSyntaxError\u001b[0m\u001b[1;31m:\u001b[0m invalid syntax\n"
     ]
    }
   ],
   "source": [
    "def print_if_odd(x):\n",
    "    if : # fill in the appropriate condition\n",
    "        print(x, 'odd')\n",
    "print_if_odd(10)\n",
    "print_if_odd(5)"
   ]
  },
  {
   "cell_type": "code",
   "execution_count": null,
   "id": "705ad07c",
   "metadata": {},
   "outputs": [],
   "source": [
    "def print_even_odd(x):\n",
    "    if : # fill in condition for even numbers\n",
    "        print(x, 'is even')\n",
    "    else:\n",
    "        print(x, 'is odd')\n",
    "print_even_odd(10)\n",
    "print_even_odd(5)"
   ]
  },
  {
   "cell_type": "markdown",
   "id": "f0beb61a",
   "metadata": {},
   "source": [
    "## If, elif, else exercises"
   ]
  },
  {
   "cell_type": "code",
   "execution_count": 28,
   "id": "6763a23e",
   "metadata": {},
   "outputs": [
    {
     "ename": "SyntaxError",
     "evalue": "invalid syntax (Temp/ipykernel_25056/2519495337.py, line 3)",
     "output_type": "error",
     "traceback": [
      "\u001b[1;36m  File \u001b[1;32m\"C:\\Users\\xavie\\AppData\\Local\\Temp/ipykernel_25056/2519495337.py\"\u001b[1;36m, line \u001b[1;32m3\u001b[0m\n\u001b[1;33m    if : # fill in the condition for a negative number (use less than symbol: <)\u001b[0m\n\u001b[1;37m       ^\u001b[0m\n\u001b[1;31mSyntaxError\u001b[0m\u001b[1;31m:\u001b[0m invalid syntax\n"
     ]
    }
   ],
   "source": [
    "# Classify numbers as positive, negative or neutral\n",
    "def number_sign(number):\n",
    "    if : # fill in the condition for a negative number (use less than symbol: <)\n",
    "        return 'negative'\n",
    "    elif : # fill in the condition for a positive number (use greater than symbol: >)\n",
    "        return 'positive'\n",
    "    else:\n",
    "        return 'neutral' \n",
    "number_sign(-1)"
   ]
  },
  {
   "cell_type": "code",
   "execution_count": 12,
   "id": "17e52472",
   "metadata": {},
   "outputs": [],
   "source": [
    "# Testing of if logic, what would be the ouput per cell?\n",
    "def xk(c, d):\n",
    "    if c == 4:\n",
    "        return 6\n",
    "    elif d >= 4:\n",
    "        return 1 + c\n",
    "    else:\n",
    "        return 'hello'"
   ]
  },
  {
   "cell_type": "code",
   "execution_count": 8,
   "id": "87989ae9",
   "metadata": {},
   "outputs": [
    {
     "data": {
      "text/plain": [
       "11"
      ]
     },
     "execution_count": 8,
     "metadata": {},
     "output_type": "execute_result"
    }
   ],
   "source": [
    "xk(10, 10)"
   ]
  },
  {
   "cell_type": "code",
   "execution_count": 9,
   "id": "631b5834",
   "metadata": {},
   "outputs": [
    {
     "data": {
      "text/plain": [
       "6"
      ]
     },
     "execution_count": 9,
     "metadata": {},
     "output_type": "execute_result"
    }
   ],
   "source": [
    "xk(4, 5)"
   ]
  },
  {
   "cell_type": "code",
   "execution_count": 13,
   "id": "65721080",
   "metadata": {},
   "outputs": [
    {
     "data": {
      "text/plain": [
       "'hello'"
      ]
     },
     "execution_count": 13,
     "metadata": {},
     "output_type": "execute_result"
    }
   ],
   "source": [
    "xk(3, 0)"
   ]
  },
  {
   "cell_type": "markdown",
   "id": "a2bfe50d",
   "metadata": {},
   "source": [
    "# Smart(ish) restaurant\n",
    "We're making a function to take orders from customers and need to make sure the total doesn't exceed the balance."
   ]
  },
  {
   "cell_type": "code",
   "execution_count": 30,
   "id": "4026d5ac",
   "metadata": {},
   "outputs": [],
   "source": [
    "balance = 8 # dollars\n",
    "taco = 2\n",
    "fries = 1\n",
    "shake = 3\n",
    "cheeseburger = 6\n",
    "cheeseburger_no_cheese = 5\n",
    "\n",
    "def can_i_get_uh(item1, item2):\n",
    "    '''\n",
    "    Print something affirmative if we can afford it (based on balance)\n",
    "    Else print something negative\n",
    "    Ex. with balance = 10\n",
    "    can_i_get_uh(cheeseburger, shake) -> Insufficient balance\n",
    "    can_i_get_uh(cheeseburger_no_cheese, shake) -> You got it\n",
    "    '''\n",
    "    total = # Tip: get the total first by adding the items\n",
    "    if total ___: # then check if this total is <= balance\n",
    "        print('You got it')\n",
    "    else:\n",
    "        print('Insufficient balance')\n",
    "can_i_get_uh(cheeseburger, shake)"
   ]
  },
  {
   "cell_type": "markdown",
   "id": "27528bd2",
   "metadata": {},
   "source": [
    "Previously we only asked one question, but we may want to order more things. How do we update balance? <br>\n",
    "If we start with a balance of $5 and we get a taco, we're left with 3. So trying to order a taco again should not be possible. <br>\n",
    "We need to somehow update our variable `balance` to reflect this. <br>\n",
    "*Hint:* `balance -= # some amount`"
   ]
  },
  {
   "cell_type": "code",
   "execution_count": null,
   "id": "a645343f",
   "metadata": {},
   "outputs": [],
   "source": []
  }
 ],
 "metadata": {
  "kernelspec": {
   "display_name": "Python 3 (ipykernel)",
   "language": "python",
   "name": "python3"
  },
  "language_info": {
   "codemirror_mode": {
    "name": "ipython",
    "version": 3
   },
   "file_extension": ".py",
   "mimetype": "text/x-python",
   "name": "python",
   "nbconvert_exporter": "python",
   "pygments_lexer": "ipython3",
   "version": "3.9.7"
  }
 },
 "nbformat": 4,
 "nbformat_minor": 5
}
