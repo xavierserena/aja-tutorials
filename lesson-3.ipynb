{
 "cells": [
  {
   "cell_type": "markdown",
   "id": "541ea2b5",
   "metadata": {},
   "source": [
    "# Functions Practice\n",
    "In this small section we'll practice writing some functions to refamiliarize with them before using them with if statements"
   ]
  },
  {
   "cell_type": "code",
   "execution_count": 2,
   "id": "4e667e25",
   "metadata": {},
   "outputs": [
    {
     "data": {
      "text/plain": [
       "20"
      ]
     },
     "execution_count": 2,
     "metadata": {},
     "output_type": "execute_result"
    }
   ],
   "source": [
    "# Here's an example of a function that multiples two numbers\n",
    "def mul(a, b):\n",
    "    return a * b\n",
    "mul(5, 4) # this should be 20"
   ]
  },
  {
   "cell_type": "code",
   "execution_count": 5,
   "id": "d9805620",
   "metadata": {},
   "outputs": [
    {
     "ename": "SyntaxError",
     "evalue": "invalid syntax (Temp/ipykernel_25056/2175424335.py, line 4)",
     "output_type": "error",
     "traceback": [
      "\u001b[1;36m  File \u001b[1;32m\"C:\\Users\\xavie\\AppData\\Local\\Temp/ipykernel_25056/2175424335.py\"\u001b[1;36m, line \u001b[1;32m4\u001b[0m\n\u001b[1;33m    return a _ b # replace _ with the appropriate symbol\u001b[0m\n\u001b[1;37m             ^\u001b[0m\n\u001b[1;31mSyntaxError\u001b[0m\u001b[1;31m:\u001b[0m invalid syntax\n"
     ]
    }
   ],
   "source": [
    "# Write a function that takes in two numbers and returns their sum\n",
    "# Hint: + is used for adding\n",
    "def add(a, b):\n",
    "    return a + b\n",
    "add(10, 2) # this should be 12"
   ]
  },
  {
   "cell_type": "code",
   "execution_count": 17,
   "id": "ea21d24d",
   "metadata": {},
   "outputs": [
    {
     "ename": "NameError",
     "evalue": "name 'sub' is not defined",
     "output_type": "error",
     "traceback": [
      "\u001b[1;31m---------------------------------------------------------------------------\u001b[0m",
      "\u001b[1;31mNameError\u001b[0m                                 Traceback (most recent call last)",
      "\u001b[1;32m~\\AppData\\Local\\Temp/ipykernel_25056/1337749378.py\u001b[0m in \u001b[0;36m<module>\u001b[1;34m\u001b[0m\n\u001b[0;32m      2\u001b[0m \u001b[1;31m# Remember the format for a function and call it sub\u001b[0m\u001b[1;33m\u001b[0m\u001b[1;33m\u001b[0m\u001b[0m\n\u001b[0;32m      3\u001b[0m \u001b[1;33m\u001b[0m\u001b[0m\n\u001b[1;32m----> 4\u001b[1;33m \u001b[0msub\u001b[0m\u001b[1;33m(\u001b[0m\u001b[1;36m12\u001b[0m\u001b[1;33m,\u001b[0m \u001b[1;36m2\u001b[0m\u001b[1;33m)\u001b[0m \u001b[1;31m# should be 10\u001b[0m\u001b[1;33m\u001b[0m\u001b[1;33m\u001b[0m\u001b[0m\n\u001b[0m",
      "\u001b[1;31mNameError\u001b[0m: name 'sub' is not defined"
     ]
    }
   ],
   "source": [
    "# Define a function sub that subtracts b from a (a - b)\n",
    "# Remember the format for a function and call it sub\n",
    "def sub(a, b):\n",
    "    return a - b\n",
    "sub(12, 2) # should be 10"
   ]
  },
  {
   "cell_type": "markdown",
   "id": "7daca02d",
   "metadata": {},
   "source": [
    "# If statements\n",
    "## Examples"
   ]
  },
  {
   "cell_type": "code",
   "execution_count": 18,
   "id": "6e65b364",
   "metadata": {},
   "outputs": [
    {
     "name": "stdout",
     "output_type": "stream",
     "text": [
      "hello\n"
     ]
    }
   ],
   "source": [
    "if True:\n",
    "    print('hello')"
   ]
  },
  {
   "cell_type": "code",
   "execution_count": 19,
   "id": "10758d77",
   "metadata": {},
   "outputs": [
    {
     "name": "stdout",
     "output_type": "stream",
     "text": [
      "2\n"
     ]
    }
   ],
   "source": [
    "if False:\n",
    "    print(1)\n",
    "else:\n",
    "    print(2)"
   ]
  },
  {
   "cell_type": "code",
   "execution_count": 22,
   "id": "f08868c7",
   "metadata": {},
   "outputs": [
    {
     "name": "stdout",
     "output_type": "stream",
     "text": [
      "more than 10\n"
     ]
    }
   ],
   "source": [
    "a = 10\n",
    "if a < 10:\n",
    "    print('less than 10')\n",
    "else:\n",
    "    print('more than 10')"
   ]
  },
  {
   "cell_type": "code",
   "execution_count": null,
   "id": "1bbeb007",
   "metadata": {},
   "outputs": [],
   "source": [
    "temp = 10\n",
    "if temp < 40:\n",
    "    print('it is freezing 🥶')\n",
    "elif temp < 80:\n",
    "    print('it is nice')\n",
    "else:\n",
    "    print('it is too hot 🥵')"
   ]
  },
  {
   "cell_type": "markdown",
   "id": "ac470405",
   "metadata": {},
   "source": [
    "## Even or odd with modulus %"
   ]
  },
  {
   "cell_type": "markdown",
   "id": "313198a1",
   "metadata": {},
   "source": [
    "How do we determine if a number is even? 2, 4, 6, ... they're divisible by 2. <br>\n",
    "We can use % modulus to get the remainder of a division; a remainder of zero means it's divisible!"
   ]
  },
  {
   "cell_type": "code",
   "execution_count": 6,
   "id": "e943c94a",
   "metadata": {},
   "outputs": [
    {
     "data": {
      "text/plain": [
       "0"
      ]
     },
     "execution_count": 6,
     "metadata": {},
     "output_type": "execute_result"
    }
   ],
   "source": [
    "10 % 2 # 10 is fully divisible by 2 (even)"
   ]
  },
  {
   "cell_type": "code",
   "execution_count": 10,
   "id": "876e53f7",
   "metadata": {},
   "outputs": [
    {
     "data": {
      "text/plain": [
       "1"
      ]
     },
     "execution_count": 10,
     "metadata": {},
     "output_type": "execute_result"
    }
   ],
   "source": [
    "11 % 2 # 11 isn't fully divisible by 2, has remainder 1 (odd)"
   ]
  },
  {
   "cell_type": "code",
   "execution_count": 11,
   "id": "73594a40",
   "metadata": {},
   "outputs": [
    {
     "data": {
      "text/plain": [
       "0"
      ]
     },
     "execution_count": 11,
     "metadata": {},
     "output_type": "execute_result"
    }
   ],
   "source": [
    "12 % 2 # 12 is fully divisible"
   ]
  },
  {
   "cell_type": "code",
   "execution_count": 13,
   "id": "d972cac5",
   "metadata": {},
   "outputs": [
    {
     "name": "stdout",
     "output_type": "stream",
     "text": [
      "10 even\n"
     ]
    }
   ],
   "source": [
    "def print_if_even(x):\n",
    "    if x % 2 == 0:\n",
    "        print(x, 'even')\n",
    "print_if_even(10)\n",
    "print_if_even(5)"
   ]
  },
  {
   "cell_type": "code",
   "execution_count": 16,
   "id": "ac169e1a",
   "metadata": {},
   "outputs": [
    {
     "ename": "SyntaxError",
     "evalue": "invalid syntax (Temp/ipykernel_25056/758128014.py, line 2)",
     "output_type": "error",
     "traceback": [
      "\u001b[1;36m  File \u001b[1;32m\"C:\\Users\\xavie\\AppData\\Local\\Temp/ipykernel_25056/758128014.py\"\u001b[1;36m, line \u001b[1;32m2\u001b[0m\n\u001b[1;33m    if :\u001b[0m\n\u001b[1;37m       ^\u001b[0m\n\u001b[1;31mSyntaxError\u001b[0m\u001b[1;31m:\u001b[0m invalid syntax\n"
     ]
    }
   ],
   "source": [
    "def print_if_odd(x):\n",
    "    if x % 2 == 1: # fill in the appropriate condition\n",
    "        print(x, 'odd')\n",
    "print_if_odd(10)\n",
    "print_if_odd(5)"
   ]
  },
  {
   "cell_type": "code",
   "execution_count": null,
   "id": "41d9a5e9",
   "metadata": {},
   "outputs": [],
   "source": [
    "def is_even(x):\n",
    "    '''\n",
    "    Takes in a number x and returns True for even numbers, False otherwise\n",
    "    '''\n",
    "    return x % 2 == 0"
   ]
  },
  {
   "cell_type": "code",
   "execution_count": 1,
   "id": "705ad07c",
   "metadata": {},
   "outputs": [
    {
     "name": "stdout",
     "output_type": "stream",
     "text": [
      "10 is even\n",
      "5 is odd\n"
     ]
    }
   ],
   "source": [
    "def print_even_odd(x):\n",
    "    if is_even(x): # fill in condition for even numbers\n",
    "        print(x, 'is even')\n",
    "    else:\n",
    "        print(x, 'is odd')\n",
    "print_even_odd(10)\n",
    "print_even_odd(5)"
   ]
  },
  {
   "cell_type": "markdown",
   "id": "f0beb61a",
   "metadata": {},
   "source": [
    "## If, elif, else exercises"
   ]
  },
  {
   "cell_type": "code",
   "execution_count": 4,
   "id": "6763a23e",
   "metadata": {},
   "outputs": [
    {
     "ename": "SyntaxError",
     "evalue": "invalid syntax (2519495337.py, line 3)",
     "output_type": "error",
     "traceback": [
      "\u001b[0;36m  File \u001b[0;32m\"/var/folders/9y/0w59z2r14h164zx8dmhctwh40000gn/T/ipykernel_10876/2519495337.py\"\u001b[0;36m, line \u001b[0;32m3\u001b[0m\n\u001b[0;31m    if : # fill in the condition for a negative number (use less than symbol: <)\u001b[0m\n\u001b[0m       ^\u001b[0m\n\u001b[0;31mSyntaxError\u001b[0m\u001b[0;31m:\u001b[0m invalid syntax\n"
     ]
    }
   ],
   "source": [
    "# Classify numbers as positive, negative or neutral\n",
    "def number_sign(number):\n",
    "    if : # fill in the condition for a negative number (use less than symbol: <)\n",
    "        return 'negative'\n",
    "    elif : # fill in the condition for a positive number (use greater than symbol: >)\n",
    "        return 'positive'\n",
    "    else:\n",
    "        return 'neutral' \n",
    "number_sign(-1)"
   ]
  },
  {
   "cell_type": "code",
   "execution_count": 12,
   "id": "17e52472",
   "metadata": {},
   "outputs": [],
   "source": [
    "# Testing of if logic, what would be the ouput per cell?\n",
    "def xk(c, d):\n",
    "    if c == 4:\n",
    "        return 6\n",
    "    elif d >= 4:\n",
    "        return 1 + c\n",
    "    else:\n",
    "        return 'hello'"
   ]
  },
  {
   "cell_type": "code",
   "execution_count": 8,
   "id": "87989ae9",
   "metadata": {},
   "outputs": [
    {
     "data": {
      "text/plain": [
       "11"
      ]
     },
     "execution_count": 8,
     "metadata": {},
     "output_type": "execute_result"
    }
   ],
   "source": [
    "xk(10, 10)"
   ]
  },
  {
   "cell_type": "code",
   "execution_count": 9,
   "id": "631b5834",
   "metadata": {},
   "outputs": [
    {
     "data": {
      "text/plain": [
       "6"
      ]
     },
     "execution_count": 9,
     "metadata": {},
     "output_type": "execute_result"
    }
   ],
   "source": [
    "xk(4, 5)"
   ]
  },
  {
   "cell_type": "code",
   "execution_count": 13,
   "id": "65721080",
   "metadata": {},
   "outputs": [
    {
     "data": {
      "text/plain": [
       "'hello'"
      ]
     },
     "execution_count": 13,
     "metadata": {},
     "output_type": "execute_result"
    }
   ],
   "source": [
    "xk(3, 0)"
   ]
  },
  {
   "cell_type": "markdown",
   "id": "a2bfe50d",
   "metadata": {},
   "source": [
    "# Calendar Planner\n",
    "We're making a function that displays the plan of the given day, and it changes based on the day of the week given. <br>\n",
    "- For emojis, you can press Control + Command + Spacebar <br>\n",
    "- To run the cell, either select the cell and: click the Run button or click Command + Enter"
   ]
  },
  {
   "cell_type": "code",
   "execution_count": 28,
   "id": "4026d5ac",
   "metadata": {},
   "outputs": [
    {
     "name": "stdout",
     "output_type": "stream",
     "text": [
      "\n",
      "        8am-9am Morning prep ☕️\n",
      "        9am-5pm School \n",
      "        5pm-7pm AjA Class 📷\n",
      "        7pm-8pm Dinner & Avatar\n",
      "        8pm-12pm Homework \n",
      "        😴\n",
      "        \n"
     ]
    }
   ],
   "source": [
    "# Select 3 days of the week (can be weekends) that you want to make plans for and code them in\n",
    "# No need to include hours, it's your calendar, so organize as you wish\n",
    "def plan_of_day(day_of_week):\n",
    "    '''\n",
    "    Given a string day_of_week 'Monday', 'Tuesday', ... display the plans of that day\n",
    "    '''\n",
    "    if day_of_week == 'Monday':\n",
    "        print('''\n",
    "        8am-9am Morning prep ☕️\n",
    "        9am-5pm School \n",
    "        5pm-7pm AjA Class 📷\n",
    "        7pm-8pm Dinner & Avatar\n",
    "        8pm-12pm Homework \n",
    "        😴\n",
    "        ''')\n",
    "    elif _: # something for another day\n",
    "        print('''\n",
    "        \n",
    "        ''')\n",
    "    elif _: # something for another day\n",
    "        print('''\n",
    "        \n",
    "        ''')\n",
    "        \n",
    "plan_of_day('Monday')"
   ]
  }
 ],
 "metadata": {
  "kernelspec": {
   "display_name": "Python 3 (ipykernel)",
   "language": "python",
   "name": "python3"
  },
  "language_info": {
   "codemirror_mode": {
    "name": "ipython",
    "version": 3
   },
   "file_extension": ".py",
   "mimetype": "text/x-python",
   "name": "python",
   "nbconvert_exporter": "python",
   "pygments_lexer": "ipython3",
   "version": "3.9.7"
  }
 },
 "nbformat": 4,
 "nbformat_minor": 5
}
