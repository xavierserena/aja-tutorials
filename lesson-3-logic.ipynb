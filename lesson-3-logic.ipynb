{
 "cells": [
  {
   "cell_type": "code",
   "execution_count": 1,
   "id": "6763a23e",
   "metadata": {},
   "outputs": [],
   "source": [
    "def get_number_sign(number):\n",
    "    if number < 0:\n",
    "        return 'negative'\n",
    "    elif number > 0:\n",
    "        return 'positive'\n",
    "    else:\n",
    "        return 'neutral' # notice the else doesn't use number, because it is the last case if everything above is false"
   ]
  },
  {
   "cell_type": "code",
   "execution_count": 3,
   "id": "747d8355",
   "metadata": {},
   "outputs": [
    {
     "data": {
      "text/plain": [
       "'neutral'"
      ]
     },
     "execution_count": 3,
     "metadata": {},
     "output_type": "execute_result"
    }
   ],
   "source": [
    "get_number_sign(0)"
   ]
  },
  {
   "cell_type": "code",
   "execution_count": 6,
   "id": "17e52472",
   "metadata": {},
   "outputs": [],
   "source": [
    "# Testing of if logic, what would be the ouput per cell?\n",
    "def xk(c, d):\n",
    "    if c == 4:\n",
    "        return 6\n",
    "    elif d >= 4:\n",
    "        return 1 + c\n",
    "    else:\n",
    "        return 25"
   ]
  },
  {
   "cell_type": "code",
   "execution_count": null,
   "id": "87989ae9",
   "metadata": {},
   "outputs": [],
   "source": [
    "xk(10, 10)"
   ]
  },
  {
   "cell_type": "code",
   "execution_count": null,
   "id": "631b5834",
   "metadata": {},
   "outputs": [],
   "source": [
    "xk(4, 5)"
   ]
  },
  {
   "cell_type": "code",
   "execution_count": null,
   "id": "65721080",
   "metadata": {},
   "outputs": [],
   "source": [
    "xk(0, 0)"
   ]
  },
  {
   "cell_type": "code",
   "execution_count": 11,
   "id": "ed7bd2db",
   "metadata": {},
   "outputs": [
    {
     "data": {
      "text/plain": [
       "0"
      ]
     },
     "execution_count": 11,
     "metadata": {},
     "output_type": "execute_result"
    }
   ],
   "source": [
    "# How do we determine if a number is even? 2, 4, 6, ... they're divisible by 2. \n",
    "# We can use % modulus to get the remainder of a division; a remainder of zero means it's divisible!\n",
    "306 % 2"
   ]
  },
  {
   "cell_type": "code",
   "execution_count": 12,
   "id": "103d8466",
   "metadata": {},
   "outputs": [
    {
     "data": {
      "text/plain": [
       "1"
      ]
     },
     "execution_count": 12,
     "metadata": {},
     "output_type": "execute_result"
    }
   ],
   "source": [
    "305 % 2"
   ]
  },
  {
   "cell_type": "code",
   "execution_count": null,
   "id": "0c67edfa",
   "metadata": {},
   "outputs": [],
   "source": [
    "# write a function that prints 'odd' for odd numbers and 'even' for even numbers\n",
    "n = 99"
   ]
  },
  {
   "cell_type": "code",
   "execution_count": 21,
   "id": "4026d5ac",
   "metadata": {},
   "outputs": [],
   "source": [
    "lst = ['apples', 'eggs', 'bread', 'cinammon', 'butter']\n",
    "out_of_stock = ['bread']\n",
    "cart = []\n",
    "for item in lst:\n",
    "    if not item in out_of_stock:\n",
    "        cart.append(item)\n",
    "print(cart)"
   ]
  },
  {
   "cell_type": "code",
   "execution_count": null,
   "id": "516fce87",
   "metadata": {},
   "outputs": [],
   "source": [
    "lst = [('apples', 3), ('eggs', 12), ('bread', 2), ('cinammon', 1), ('butter', 1)]\n",
    "stock = [('apples', 9), ('eggs', 36), ('bread', 1), ('cinammon', 1), ('butter', 0)]\n",
    "cart = [] # how do we shop knowing what we want to buy and being able to check if it's in stock?\n"
   ]
  }
 ],
 "metadata": {
  "kernelspec": {
   "display_name": "Python 3 (ipykernel)",
   "language": "python",
   "name": "python3"
  },
  "language_info": {
   "codemirror_mode": {
    "name": "ipython",
    "version": 3
   },
   "file_extension": ".py",
   "mimetype": "text/x-python",
   "name": "python",
   "nbconvert_exporter": "python",
   "pygments_lexer": "ipython3",
   "version": "3.9.7"
  }
 },
 "nbformat": 4,
 "nbformat_minor": 5
}
