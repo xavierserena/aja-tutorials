{
 "cells": [
  {
   "cell_type": "markdown",
   "id": "4c7efee3",
   "metadata": {},
   "source": [
    "### Spatify80s: A music program"
   ]
  },
  {
   "cell_type": "code",
   "execution_count": 10,
   "id": "6f85a9a1",
   "metadata": {},
   "outputs": [],
   "source": [
    "# \t is a tab, equivalent to \\t\n",
    "# Rank\tSong Title\tSong Artist\tYear\tGenre\n",
    "# source: http://www.discjockey.org/top-100-songs-of-the-1980s/\n",
    "songs_data_string = \"\"\"\n",
    "1\tDon't Stop Believin'\tJourney\t1981\tRock\n",
    "2\tYou Shook Me All Night Long\tAC/DC\t1980\tRock\n",
    "3\tLove Shack\tB-52's\t1989\tPopular\n",
    "4\tLivin' On A Prayer\tBon Jovi\t1986\tRock\n",
    "5\tPour Some Sugar On Me\tDef Leppard\t1987\tRock\n",
    "6\tBillie Jean\tMichael Jackson\t1982\tPopular\n",
    "7\tCelebration\tKool & The Gang\t1980\tDisco\n",
    "8\tFootloose\tKenny Loggins\t1984\tPopular\n",
    "9\tThriller\tMichael Jackson\t1982\tPopular\n",
    "10\tI Wanna Dance With Somebody (Who Loves Me)\tWhitney Houston\t1987\tPopular\n",
    "11\tGirls Just Want To Have Fun\tCyndi Lauper\t1984\tPopular\n",
    "12\tSummer Of 69\tBryan Adams\t1984\tRock\n",
    "13\tThe Way You Make Me Feel\tMichael Jackson\t1987\tPopular\n",
    "14\tJessie's Girl\tRick Springfield\t1981\tPopular\n",
    "15\t(I've Had) The Time Of My Life\tBill Medley & Jennifer Warnes\t1987\tBallad\n",
    "16\tPretty Young Thing (P.Y.T)\tMichael Jackson\t1982\tPopular\n",
    "17\tPush It\tSalt-N-Pepa\t1987\tPopular\n",
    "18\tFaithfully\tJourney\t1983\tBallad\n",
    "19\tBust A Move\tYoung M.C.\t1989\tPopular\n",
    "20\tCrazy Little Thing Called Love\tQueen\t1980\tPopular\n",
    "21\tBeat It\tMichael Jackson\t1983\tPopular\n",
    "22\tSweet Child O' Mine\tGuns N' Roses\t1987\tRock\n",
    "23\tTake Me Home Tonight\tEddie Money\t1986\tOldies\n",
    "24\tRed Red Wine\tUB40\t1988\tPopular\n",
    "25\tWhat I Like About You\tRomantics\t1980\tRock\n",
    "26\tLike A Prayer\tMadonna\t1989\tPopular\n",
    "27\tKiss\tPrince\t1986\tPopular\n",
    "28\tWhite Wedding\tBilly Idol\t1983\tPopular\n",
    "29\tI Love Rock 'N Roll\tJoan Jett & Blackhearts\t1982\tPopular\n",
    "30\tAnother One Bites The Dust\tQueen\t1981\tPopular\n",
    "31\tCome on Eileen\tDexy's Midnight Runners\t1982\tPopular\n",
    "32\tSuper Freak\tRick James\t1981\tPopular\n",
    "33\tMony Mony\tBilly Idol\t1987\tPopular\n",
    "34\tWild Thing\tTone Loc\t1988\tPopular\n",
    "35\tIt's Tricky\tRun-D.M.C.\t1986\tPopular\n",
    "36\tSharp Dressed Man\tZZ Top\t1983\tRock\n",
    "37\tTake On Me\ta-ha\t1985\tPopular\n",
    "38\t(You Gotta) Fight For Your Right (To Party!)\tBeastie Boys\t1987\tAlternative\n",
    "39\tHit Me With Your Best Shot\tPat Benatar\t1980\tAlternative\n",
    "40\tFishin' in the Dark\tThe Nitty Gritty Dirt Band\t1987\tCountry\n",
    "41\tSmooth Criminal\tMichael Jackson\t1987\tPopular\n",
    "42\tYou Spin Me Round (Like A Record)\tDead Or Alive\t1984\tAlternative\n",
    "43\tRock With You\tMichael Jackson\t1980\tPopular\n",
    "44\tAny Way You Want It\tJourney\t1980\tRock\n",
    "45\tCopperhead Road\tSteve Earle\t1988\tPopular\n",
    "46\tWalking On Sunshine\tKatrina & The Waves\t1985\tOldies\n",
    "47\tIt Takes Two\tRob Base & D.J. E-Z Rock\t1988\tPopular\n",
    "48\tYou Make My Dreams Come True\tDaryl Hall & John Oates\t1982\tOldies\n",
    "49\tForever And Ever, Amen\tRandy Travis\t1987\tCountry\n",
    "50\tThe Safety Dance\tMen Without Hats\t1983\tOldies\n",
    "51\tOpen Arms\tJourney\t1982\tBallad\n",
    "52\tAll Night Long (All Night)\tLionel Richie\t1983\tPopular\n",
    "53\tYour Love\tOutfield\t1985\tPopular\n",
    "54\tBlister In The Sun\tViolent Femmes\t1982\tAlternative\n",
    "55\tJack & Diane\tJohn Cougar\t1982\tPopular\n",
    "56\tKokomo\tBeach Boys\t1988\tPopular\n",
    "57\t1999\tPrince\t1983\tPopular\n",
    "58\tFree Fallin'\tTom Petty\t1989\tRock\n",
    "59\tFunky Cold Medina\tTone Loc\t1989\tPopular\n",
    "60\tEye Of The Tiger\tSurvivor\t1982\tOldies\n",
    "61\tWanna Be Startin' Somethin'\tMichael Jackson\t1983\tPopular\n",
    "62\tYou Give Love A Bad Name\tBon Jovi\t1986\tPopular\n",
    "63\tLet's Go Crazy\tPrince & The Revolution\t1984\tPopular\n",
    "64\tCould You Be Loved\tBob Marley & The Wailers\t1980\tReggae\n",
    "65\tGet Down On It\tKool & The Gang\t1981\tPopular\n",
    "66\tNever Gonna Give You Up\tRick Astley\t1987\tPopular\n",
    "67\tBrass Monkey\tBeastie Boys\t1986\tAlternative\n",
    "68\tAfrica\tToto\t1983\tBallad\n",
    "69\tYou Dropped A Bomb On Me\tGap Band\t1982\tPopular\n",
    "70\tWake Me Up Before You Go-Go\tWham!\t1984\tPopular\n",
    "71\tIt's Raining Men\tWeather Girls\t1982\tPopular\n",
    "72\tBack In Black\tAC/DC\t1980\tRock\n",
    "73\tMan In The Mirror\tMichael Jackson\t1987\tBallad\n",
    "74\tPump Up The Jam\tTechnotronic Feat. Felly\t1989\tPopular\n",
    "75\tIn Your Eyes\tPeter Gabriel\t1986\tAlternative\n",
    "76\tUptown Girl\tBilly Joel\t1983\tPopular\n",
    "77\tDead Man's Party\tOingo Boingo\t1985\tPopular\n",
    "78\tParadise City\tGuns N' Roses\t1989\tRock\n",
    "79\tDancing In The Dark\tBruce Springsteen\t1984\tAlternative\n",
    "80\tLet's Groove\tEarth, Wind & Fire\t1981\tOldies\n",
    "81\tConga\tGloria Estefan & Miami Sound Machine\t1985\tPopular\n",
    "82\tEvery Little Thing She Does Is Magic\tPolice\t1981\tPopular\n",
    "83\tCould I Have This Dance\tAnne Murray\t1980\tBallad\n",
    "84\tUnder Pressure\tQueen & David Bowie\t1981\tRock\n",
    "85\tGlory Days\tBruce Springsteen\t1985\tPopular\n",
    "86\tShe's Got A Way\tBilly Joel\t1982\tOldies\n",
    "87\tForever Young\tRod Stewart\t1988\tAlternative\n",
    "88\tCan't Fight This Feeling\tREO Speedwagon\t1985\tBallad\n",
    "89\tDancing With Myself\tBilly Idol\t1981\tRock\n",
    "90\tJust Like Heaven\tCure\t1987\tAlternative\n",
    "91\tFunkytown\tLipps Inc.\t1980\tOldies\n",
    "92\tWalk Like An Egyptian\tBangles\t1986\tRock\n",
    "93\tYou're The Inspiration\tChicago\t1984\tBallad\n",
    "94\tJump\tVan Halen\t1984\tRock\n",
    "95\tTainted Love\tSoft Cell\t1982\tPopular\n",
    "96\tHeaven\tBryan Adams\t1985\tOldies\n",
    "97\tHere And Now\tLuther Vandross\t1989\tBallad\n",
    "98\tNothin' But A Good Time\tPoison\t1988\tRock\n",
    "99\tIts Raining Men\tWeather Girls\t1983\tFunk\n",
    "\"\"\""
   ]
  },
  {
   "cell_type": "code",
   "execution_count": 11,
   "id": "241f8615",
   "metadata": {},
   "outputs": [
    {
     "data": {
      "text/plain": [
       "['Hello, my name is Xavier',\n",
       " ' I study at UC Berkeley',\n",
       " ' I love tacos and robots',\n",
       " ' And coffee',\n",
       " '']"
      ]
     },
     "execution_count": 11,
     "metadata": {},
     "output_type": "execute_result"
    }
   ],
   "source": [
    "# let's test how to split a string\n",
    "test_string = 'Hello, my name is Xavier. I study at UC Berkeley. I love tacos and robots. And coffee.'\n",
    "sentences = test_string.split('.') # split the string at every period '.' and create a list from it\n",
    "sentences"
   ]
  },
  {
   "cell_type": "code",
   "execution_count": 12,
   "id": "74f7c136",
   "metadata": {},
   "outputs": [
    {
     "data": {
      "text/plain": [
       "['line 1', 'line 2', 'line2.5', 'line 3']"
      ]
     },
     "execution_count": 12,
     "metadata": {},
     "output_type": "execute_result"
    }
   ],
   "source": [
    "test_string_multiline = \"\"\"line 1\n",
    "line 2\n",
    "line2.5\n",
    "line 3\n",
    "\"\"\"\n",
    "lines = test_string_multiline.splitlines() # split after every new line expect at the end of the string\n",
    "lines"
   ]
  },
  {
   "cell_type": "code",
   "execution_count": 133,
   "id": "a1d9a3e0",
   "metadata": {},
   "outputs": [],
   "source": [
    "songs_data_lst = songs_data_string.splitlines()[1:] # splitlines is a string method that separates the items by new line into a list\n",
    "# songs_data_lst"
   ]
  },
  {
   "cell_type": "code",
   "execution_count": 44,
   "id": "5843cbdb",
   "metadata": {},
   "outputs": [],
   "source": [
    "for song_entry in songs_data_lst:\n",
    "    song_properties = song_entry.split('\\t')\n",
    "#     print(song_properties)"
   ]
  },
  {
   "cell_type": "code",
   "execution_count": 64,
   "id": "b171eeae",
   "metadata": {},
   "outputs": [],
   "source": [
    "from random import sample\n",
    "\n",
    "# Rank\tSong Title\tSong Artist\tYear\tGenre\n",
    "# create class for song; what properties should it have?\n",
    "class Song:\n",
    "    # how to we store all of the songs? how do we make sure they're not repeated?\n",
    "    songs = []\n",
    "    def __init__(self, rank, title, artist, year, genre):\n",
    "        self.rank = rank\n",
    "        self.title = title\n",
    "        self.artist = artist\n",
    "        self.year = year\n",
    "        self.genre = genre\n",
    "        Song.songs.append(self)\n",
    "        \n",
    "    def suggest_song():\n",
    "        return sample(Song.songs, 1)[0]\n",
    "        "
   ]
  },
  {
   "cell_type": "code",
   "execution_count": 30,
   "id": "561d3449",
   "metadata": {},
   "outputs": [],
   "source": [
    "sample_song_data = ['99', 'Its Raining Men', 'Weather Girls', '1983', 'Funk']\n",
    "sample_song = Song('99', 'Its Raining Men', 'Weather Girls', '1983', 'Funk')"
   ]
  },
  {
   "cell_type": "code",
   "execution_count": 36,
   "id": "bb49dad5",
   "metadata": {},
   "outputs": [
    {
     "data": {
      "text/plain": [
       "'Its Raining Men'"
      ]
     },
     "execution_count": 36,
     "metadata": {},
     "output_type": "execute_result"
    }
   ],
   "source": [
    "Song.songs[0].title"
   ]
  },
  {
   "cell_type": "code",
   "execution_count": 65,
   "id": "dae3fe9e",
   "metadata": {},
   "outputs": [],
   "source": [
    "# now iterating the data, save it as a class into the class\n",
    "for song_entry in songs_data_lst:\n",
    "    song_properties = song_entry.split('\\t')\n",
    "    rank = song_properties[0]\n",
    "    title = song_properties[1]\n",
    "    artist = song_properties[2]\n",
    "    year = song_properties[3]\n",
    "    genre = song_properties[4]\n",
    "    Song(rank, title, artist, year, genre)"
   ]
  },
  {
   "cell_type": "code",
   "execution_count": 47,
   "id": "2d124240",
   "metadata": {},
   "outputs": [
    {
     "data": {
      "text/plain": [
       "'Girls Just Want To Have Fun'"
      ]
     },
     "execution_count": 47,
     "metadata": {},
     "output_type": "execute_result"
    }
   ],
   "source": [
    "Song.songs[10].title"
   ]
  },
  {
   "cell_type": "code",
   "execution_count": 51,
   "id": "121980dd",
   "metadata": {},
   "outputs": [],
   "source": [
    "# class for a user, what information should be kept track of?\n",
    "# what methods should a user have to interact with music data\n",
    "class User:\n",
    "    \n",
    "    def __init__(self, name):\n",
    "        self.name = name\n",
    "        self.liked_songs = []\n",
    "\n",
    "    def rate_song(self, song, rating):\n",
    "        if rating == '👍' and song not in self.liked_songs:\n",
    "            self.liked_songs.append(song)"
   ]
  },
  {
   "cell_type": "code",
   "execution_count": 117,
   "id": "afae3d77",
   "metadata": {},
   "outputs": [],
   "source": [
    "# 👍👎 or True False for rating"
   ]
  },
  {
   "cell_type": "code",
   "execution_count": 53,
   "id": "cbc03fb9",
   "metadata": {},
   "outputs": [
    {
     "data": {
      "text/plain": [
       "'Girls Just Want To Have Fun'"
      ]
     },
     "execution_count": 53,
     "metadata": {},
     "output_type": "execute_result"
    }
   ],
   "source": [
    "xavier = User('Xavier') # creating account\n",
    "# suggested song\n",
    "xavier.rate_song(Song.songs[10], '👍') # rating\n",
    "xavier.liked_songs[0].title"
   ]
  },
  {
   "cell_type": "code",
   "execution_count": 132,
   "id": "fba27e7a",
   "metadata": {},
   "outputs": [
    {
     "data": {
      "text/plain": [
       "'Glory Days'"
      ]
     },
     "execution_count": 132,
     "metadata": {},
     "output_type": "execute_result"
    }
   ],
   "source": [
    "Song.suggest_song().title"
   ]
  }
 ],
 "metadata": {
  "kernelspec": {
   "display_name": "Python 3 (ipykernel)",
   "language": "python",
   "name": "python3"
  },
  "language_info": {
   "codemirror_mode": {
    "name": "ipython",
    "version": 3
   },
   "file_extension": ".py",
   "mimetype": "text/x-python",
   "name": "python",
   "nbconvert_exporter": "python",
   "pygments_lexer": "ipython3",
   "version": "3.9.7"
  }
 },
 "nbformat": 4,
 "nbformat_minor": 5
}
